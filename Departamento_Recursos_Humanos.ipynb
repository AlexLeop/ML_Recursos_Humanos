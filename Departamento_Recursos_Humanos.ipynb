{
  "nbformat": 4,
  "nbformat_minor": 0,
  "metadata": {
    "colab": {
      "name": "Departamento_Recursos_Humanos.ipynb",
      "provenance": [],
      "collapsed_sections": [
        "IuqiilKhJNye"
      ],
      "mount_file_id": "1oBnwH-JQDwP-D-TggS5U5b7ACMlsOns0",
      "authorship_tag": "ABX9TyOTOqIM7YKcpLRZYKG6Zf4U",
      "include_colab_link": true
    },
    "kernelspec": {
      "name": "python3",
      "display_name": "Python 3"
    },
    "language_info": {
      "name": "python"
    }
  },
  "cells": [
    {
      "cell_type": "markdown",
      "metadata": {
        "id": "view-in-github",
        "colab_type": "text"
      },
      "source": [
        "<a href=\"https://colab.research.google.com/github/AlexLeop/ML_Recursos_Humanos/blob/main/Departamento_Recursos_Humanos.ipynb\" target=\"_parent\"><img src=\"https://colab.research.google.com/assets/colab-badge.svg\" alt=\"Open In Colab\"/></a>"
      ]
    },
    {
      "cell_type": "markdown",
      "source": [
        "# **Departamento de Recursos Humanos**"
      ],
      "metadata": {
        "id": "h9_tsc8nE9EK"
      }
    },
    {
      "cell_type": "markdown",
      "source": [
        "###**Base de dados:**\n",
        "*   https://www.kaggle.com/pavansubhasht/ibm-hr-analitics-attrition-dataset\n",
        "\n",
        "#####**Calcúlo de Salário:**\n",
        "*   https://www.mom.gov.sg/employment-practices/salary/monthly-and-daily-salary e\n",
        "*   https://www.sprout.zendesk.com/hc/en-us/articles/360030922133/How-to-Calculate-for-the-Daily-Rate-from-Your-Monthly-Salary\n",
        "\n",
        "#####**Stock:**\n",
        "*   https://www.moneyunder30.com/employee-stock-options#:~:text=Typically%20they%20are%20granted%20to.a%20especific%20period%20of%20time\n",
        "\n"
      ],
      "metadata": {
        "id": "5x4rLKp2FQ5C"
      }
    },
    {
      "cell_type": "code",
      "execution_count": 64,
      "metadata": {
        "id": "UTzlFysE9JKw"
      },
      "outputs": [],
      "source": [
        "\"\"\"Importando as bibliotecas necessárias\"\"\"\n",
        "import pandas as pd\n",
        "import numpy as np\n",
        "import matplotlib.pyplot as plt\n",
        "%matplotlib inline\n",
        "import seaborn as sns"
      ]
    },
    {
      "cell_type": "code",
      "source": [
        "trabalhador_df = pd.read_csv('./Human_Resources.csv')"
      ],
      "metadata": {
        "id": "RxWyyiTsI8ZI"
      },
      "execution_count": 65,
      "outputs": []
    },
    {
      "cell_type": "markdown",
      "source": [
        "### **Transformação e Análize Exploratória de dados**"
      ],
      "metadata": {
        "id": "LF5w7lENJA69"
      }
    },
    {
      "cell_type": "code",
      "source": [
        "class recursos_humsnos:\n",
        "    def __init__(self, dados) -> None:\n",
        "        self.dados = dados\n",
        "\n",
        "    def Verifia_dados_nulos(self):\n",
        "        \"\"\" Verificando se há dados núlos através de um grafico de mapa de calor na base de dados \"\"\"\n",
        "        mapa_calor = sns.heatmap(self.dados.isnull(), cbar=None);\n",
        "        return mapa_calor\n",
        "\n",
        "    def verifica_distribuicao_f(self):\n",
        "        \"\"\" Criando um gráfico para análise da distribuição de todas as colunas do Dataset \"\"\"\n",
        "        dist_f = self.dados.hist(bins=30, figsize=(20,20), color='r');\n",
        "        return dist_f\n",
        "\n",
        "    def verifica_correlacao(self):\n",
        "        \"\"\"Criando correlação entre colunas do Dataset\"\"\"\n",
        "        correlacao = self.dados.corr()\n",
        "\n",
        "        \"\"\"Criando gráfico Heatmap\"\"\"\n",
        "        f, ax = plt.subplots(figsize=(28,15))\n",
        "        return sns.heatmap(correlacao, annot=True);\n",
        "    \n",
        "    def transformar_dados(self):\n",
        "        \"\"\"Modificando a coluna [Attrition, Over18, OverTime] de (Yes or No) para (1 ou 0) utilizando a função lambda\"\"\"\n",
        "        self.dados['Attrition'] = self.dados['Attrition'].apply(lambda x: 1 if x == 'Yes' else 0)\n",
        "        self.dados['Over18']    = self.dados['Over18'].apply(lambda x: 1 if x == 'Yes' else 0)\n",
        "        self.dados['OverTime']  = self.dados['OverTime'].apply(lambda x: 1 if x == 'Yes' else 0)\n",
        "\n",
        "        \"\"\" Removendo as colunas de valor único \"\"\"\n",
        "        trabalhador_df.drop(['EmployeeCount', 'StandardHours','Over18', 'EmployeeNumber'], axis=1, inplace=True)\n",
        "        return self.dados"
      ],
      "metadata": {
        "id": "X1Bvlo6lL9Vn"
      },
      "execution_count": 66,
      "outputs": []
    },
    {
      "cell_type": "code",
      "source": [
        "rh = recursos_humsnos(trabalhador_df)\n",
        "dado_novo = rh.transformar_dados()"
      ],
      "metadata": {
        "id": "V-Wx28CRcbMH"
      },
      "execution_count": 67,
      "outputs": []
    },
    {
      "cell_type": "markdown",
      "source": [
        "###**Pré-processamento e bases de Treinamento / Teste**"
      ],
      "metadata": {
        "id": "W9FK83sFjzPf"
      }
    },
    {
      "cell_type": "code",
      "source": [
        "\"\"\" Importando as bibliotecas necessárias \"\"\"\n",
        "from sklearn.preprocessing import OneHotEncoder\n",
        "from sklearn.preprocessing import MinMaxScaler\n",
        "from sklearn.model_selection import train_test_split\n",
        "from typing import Type\n",
        "\n",
        "\n",
        "onehotencoder = OneHotEncoder() # Instanciando a função OneHotEncoder\n",
        "scaler = MinMaxScaler() # Instanciando MinMaxScaler\n",
        "\n",
        "\n",
        "class preprocessamento:\n",
        "    def __init__(self, dados_base) -> None:\n",
        "        self.data = dados_base\n",
        "\n",
        "    def separar_numericos(self):\n",
        "        \"\"\" Isolando todos os atributos númericos do Dataset [self.data] e atribuido à variavel [X_numericos] \"\"\"\n",
        "        X_numericos = self.data.select_dtypes(include=['int64'])\n",
        "        X_numericos.drop(['Attrition'], axis=1, inplace=True) # Removendo a coluna Attrition do Dataset [X_numericos]\n",
        "\n",
        "        return X_numericos\n",
        "\n",
        "    def separar_categoricos(self):\n",
        "        \"\"\"Isolando os atributos categóricos para um Dataset atribuido à variavel X_cat\"\"\"\n",
        "        X_cat = self.data[['BusinessTravel', 'Department', 'EducationField', 'Gender', 'JobRole', 'MaritalStatus']]\n",
        "\n",
        "        return X_cat\n",
        "\n",
        "    def aplicar_dammy(self, X_cat):\n",
        "        \"\"\" \n",
        "        Gerando variáves Dammy (variable dummy) para a transformação do Dataset X_cat \n",
        "        atravéis da função OneHotEncoder do ScikitLearn e modificando o Dataset para um Array\n",
        "        \"\"\"\n",
        "        global onehotencoder\n",
        "        X_cat = onehotencoder.fit_transform(X_cat).toarray() # Transformando a variavel X_cat em um Array de variaveis Dammy\n",
        "        X_cat = pd.DataFrame(X_cat) # Convetendo o Dataset X_cat novamente para um DataFrame\n",
        "\n",
        "        return X_cat\n",
        "\n",
        "    def unir_dataset(self, X_cat, X_numericos):\n",
        "        \"\"\"Concatenando os Dataset X_cat e X_numericos\"\"\"\n",
        "        X_all = pd.concat([X_cat, X_numericos], axis=1)\n",
        "\n",
        "        return X_all\n",
        "\n",
        "    def normalizando_data(self, X_all):\n",
        "        # Aplicando a normalização do Dataset [X_all]\n",
        "        global scale\n",
        "        X = scaler.fit_transform(X_all) # Normalizando [X_all]\n",
        "\n",
        "        return X\n",
        "\n",
        "    def atributo_previsor(self):\n",
        "        # Definindo à variavel [y] os atributos previsores\n",
        "        y = self.data['Attrition']\n",
        "\n",
        "        return y\n",
        "\n",
        "    def definindo_testtreino(self, X, y):\n",
        "        # Declarando as variaveis [X e y] de Treino e Teste com cada variavel contendo 1/4 do Dataset  \n",
        "        X_train, X_test, y_train, y_test = train_test_split(X, y, test_size=0.25)\n",
        "\n",
        "        return X_train, y_train, X_test, y_test"
      ],
      "metadata": {
        "id": "qtcwUfPYCgPi"
      },
      "execution_count": 68,
      "outputs": []
    },
    {
      "cell_type": "code",
      "source": [
        "rl = preprocessamento(dado_novo) # Instanciando a classe preprocessamento\n",
        "unind = rl.unir_dataset(rl.aplicar_dammy(rl.separar_categoricos()), rl.separar_numericos()) # Chamando o methodo unir_dataset da classe preprocessamento\n",
        "treinamento_ml = rl.definindo_testtreino(rl.normalizando_data(unind), rl.atributo_previsor())"
      ],
      "metadata": {
        "colab": {
          "base_uri": "https://localhost:8080/"
        },
        "id": "yTs2ZBNtPhpw",
        "outputId": "95b44be7-d89d-46fb-a695-41714029f5a9"
      },
      "execution_count": 69,
      "outputs": [
        {
          "output_type": "stream",
          "name": "stderr",
          "text": [
            "/usr/local/lib/python3.7/dist-packages/pandas/core/frame.py:4913: SettingWithCopyWarning: \n",
            "A value is trying to be set on a copy of a slice from a DataFrame\n",
            "\n",
            "See the caveats in the documentation: https://pandas.pydata.org/pandas-docs/stable/user_guide/indexing.html#returning-a-view-versus-a-copy\n",
            "  errors=errors,\n",
            "/usr/local/lib/python3.7/dist-packages/sklearn/utils/validation.py:1692: FutureWarning: Feature names only support names that are all strings. Got feature names with dtypes: ['int', 'str']. An error will be raised in 1.2.\n",
            "  FutureWarning,\n",
            "/usr/local/lib/python3.7/dist-packages/sklearn/utils/validation.py:1692: FutureWarning: Feature names only support names that are all strings. Got feature names with dtypes: ['int', 'str']. An error will be raised in 1.2.\n",
            "  FutureWarning,\n"
          ]
        }
      ]
    },
    {
      "cell_type": "markdown",
      "source": [
        "### **Avaliação do Modelo - KPIs**"
      ],
      "metadata": {
        "id": "uMVqIMwtxfAv"
      }
    },
    {
      "cell_type": "code",
      "source": [
        "class metricaseavaliacoes:\n",
        "    \"\"\" Classe responsável pela avaliação do modelo de Regressão Logística \"\"\"\n",
        "    def __init__(self, valortest , preditor) -> None:\n",
        "        self.valorestest = valortest\n",
        "        self.y_pred = preditor\n",
        "        self.y_test = valortest[3]\n",
        "        \n",
        "    def ScoreAcuracia(self):\n",
        "        \"\"\" Calcular o score da acurácia \"\"\"\n",
        "        score_ac = accuracy_score(self.y_test, self.y_pred)\n",
        "        return print('A acurácia deste modelo é: {:.2f}%'.format(score_ac * 100))\n",
        "\n",
        "    def MatrizDeConfusao(self):\n",
        "        \"\"\"Passando como parametros as variaves de teste e predição para a instancia da matriz de confusão\"\"\"\n",
        "        mc = confusion_matrix(self.y_test, self.y_pred)\n",
        "        mp_calor = sns.heatmap(mc, annot=True); # Plotando o gráfico da matriz de confusão\n",
        "        return print(mc), mp_calor\n",
        "\n",
        "    def ClassificacaoKPIs(self):\n",
        "        return classification_report(self.y_test, self.y_pred)"
      ],
      "metadata": {
        "id": "GqQ4J0iuC4OD"
      },
      "execution_count": 70,
      "outputs": []
    },
    {
      "cell_type": "markdown",
      "source": [
        "### **Modelo de Regressão Logística**"
      ],
      "metadata": {
        "id": "IuqiilKhJNye"
      }
    },
    {
      "cell_type": "code",
      "source": [
        "\"\"\" Importando bibliotecas necessárias aplicação da regressão logística\"\"\"\n",
        "from sklearn.linear_model import LogisticRegression\n",
        "import sklearn\n",
        "\n",
        "\"\"\" Importando bibliotecas necessárias para avaliação do modelo de regressão logística \"\"\"\n",
        "from sklearn.metrics import accuracy_score # Biblioteca para valiação a Acurácia\n",
        "from sklearn.metrics import precision_score # Biblioteca para avaliar a precisão\n",
        "from sklearn.metrics import recall_score # Biblioteca para avaliar o recall\n",
        "from sklearn.metrics import f1_score # Biblioteca para avaliar toda a base de dados\n",
        "from sklearn.metrics import classification_report # Biblioteca para reportar a classificação\n",
        "\n",
        "\"\"\" Importando biblioteca necessária para gerar a matriz de confusão deste modelo \"\"\"\n",
        "from sklearn.metrics import confusion_matrix\n",
        "\n",
        "Mod_logistico = LogisticRegression() # Instanciando a classe LogisticRegression\n",
        "\n",
        "class regressao_log:\n",
        "    def __init__(self, dadostrainotest) -> None:\n",
        "        self.dadostrainotest = dadostrainotest\n",
        "        self.X_train = dadostrainotest[0]\n",
        "        self.y_train = dadostrainotest[1]\n",
        "        self.X_test =  dadostrainotest[2]\n",
        "        self.y_test =  dadostrainotest[3]\n",
        "\n",
        "    def treinar_ModeloRegressao(self):\n",
        "        global Mod_logistico\n",
        "        Mod_logistico.fit(self.X_train, self.y_train) # Treinando o modelo\n",
        "        return Mod_logistico\n",
        "\n",
        "    def definindo_preditor_regressivo(self, Mod_logistico):\n",
        "        y_pred = Mod_logistico.predict(self.X_test) # Criando variavel de predição\n",
        "        return y_pred"
      ],
      "metadata": {
        "id": "Z-LMb1cPvXMS"
      },
      "execution_count": 71,
      "outputs": []
    },
    {
      "cell_type": "code",
      "source": [
        "Mod_RL = regressao_log(treinamento_ml) # Instanciando o modelo de regressão logística passando dados pre-processados\n",
        "treinar = Mod_RL.definindo_preditor_regressivo(Mod_RL.treinar_ModeloRegressao()) # trainando o modelo\n",
        "treinar"
      ],
      "metadata": {
        "colab": {
          "base_uri": "https://localhost:8080/"
        },
        "id": "J3JMAJNnDRsW",
        "outputId": "8054dae0-45be-4566-f0e9-25270e97c6d8"
      },
      "execution_count": 72,
      "outputs": [
        {
          "output_type": "execute_result",
          "data": {
            "text/plain": [
              "array([0, 0, 0, 0, 0, 0, 0, 0, 0, 0, 0, 0, 0, 0, 1, 1, 0, 0, 0, 0, 0, 1,\n",
              "       0, 0, 0, 0, 0, 0, 0, 0, 0, 0, 0, 1, 0, 0, 0, 0, 0, 0, 0, 0, 0, 0,\n",
              "       0, 0, 1, 0, 1, 0, 0, 1, 0, 1, 0, 1, 0, 0, 1, 0, 0, 0, 0, 0, 0, 0,\n",
              "       0, 0, 0, 0, 0, 0, 0, 0, 0, 0, 0, 0, 0, 0, 0, 0, 0, 1, 1, 0, 0, 0,\n",
              "       0, 0, 0, 0, 0, 0, 0, 0, 0, 0, 1, 0, 0, 0, 0, 0, 0, 0, 0, 1, 0, 0,\n",
              "       0, 0, 0, 0, 1, 0, 0, 0, 0, 0, 0, 0, 0, 0, 0, 0, 0, 0, 0, 0, 0, 0,\n",
              "       0, 0, 0, 0, 0, 0, 0, 0, 0, 0, 0, 0, 0, 0, 0, 0, 0, 0, 0, 0, 0, 0,\n",
              "       0, 0, 0, 0, 0, 0, 0, 0, 0, 0, 0, 0, 0, 0, 0, 0, 0, 0, 0, 0, 0, 0,\n",
              "       0, 0, 1, 0, 0, 0, 0, 0, 0, 0, 0, 0, 0, 0, 0, 0, 0, 0, 1, 0, 0, 0,\n",
              "       0, 0, 0, 0, 0, 0, 0, 0, 0, 0, 0, 0, 0, 0, 0, 0, 0, 0, 0, 0, 0, 0,\n",
              "       0, 0, 1, 0, 0, 0, 0, 0, 0, 0, 0, 0, 0, 0, 0, 1, 0, 0, 0, 0, 0, 0,\n",
              "       0, 0, 0, 0, 0, 0, 0, 0, 0, 0, 0, 0, 0, 0, 0, 0, 0, 1, 0, 0, 0, 0,\n",
              "       0, 0, 0, 0, 0, 0, 0, 0, 0, 0, 0, 0, 1, 0, 0, 0, 0, 0, 0, 0, 0, 1,\n",
              "       0, 0, 0, 0, 0, 0, 0, 0, 0, 0, 0, 0, 0, 0, 0, 0, 0, 0, 0, 0, 0, 0,\n",
              "       0, 0, 0, 0, 0, 0, 0, 0, 0, 0, 0, 0, 0, 0, 0, 0, 0, 0, 0, 1, 0, 0,\n",
              "       0, 0, 0, 0, 1, 0, 1, 0, 0, 1, 1, 0, 0, 0, 0, 0, 0, 0, 0, 0, 0, 0,\n",
              "       0, 1, 0, 1, 0, 0, 0, 1, 0, 0, 0, 0, 0, 0, 0, 0])"
            ]
          },
          "metadata": {},
          "execution_count": 72
        }
      ]
    },
    {
      "cell_type": "code",
      "source": [
        "metricas_RL = metricaseavaliacoes(treinamento_ml, treinar) # Instanciando a classe de treinamento do modelo de Regressão Logistica"
      ],
      "metadata": {
        "id": "101i4eadDY4Q"
      },
      "execution_count": 73,
      "outputs": []
    },
    {
      "cell_type": "code",
      "source": [
        "\"\"\" Exibindo Métricas Regressão Logística \"\"\"\n",
        "\n",
        "metricas_RL.MatrizDeConfusao() # Matriz de confusão\n",
        "print(metricas_RL.ClassificacaoKPIs()) # Classificador de KPIs"
      ],
      "metadata": {
        "colab": {
          "base_uri": "https://localhost:8080/",
          "height": 0
        },
        "id": "EjSOWgLBWHUn",
        "outputId": "b82a758d-e8bf-492d-c48f-ee9c25ef05c0"
      },
      "execution_count": 74,
      "outputs": [
        {
          "output_type": "stream",
          "name": "stdout",
          "text": [
            "[[304   5]\n",
            " [ 34  25]]\n",
            "              precision    recall  f1-score   support\n",
            "\n",
            "           0       0.90      0.98      0.94       309\n",
            "           1       0.83      0.42      0.56        59\n",
            "\n",
            "    accuracy                           0.89       368\n",
            "   macro avg       0.87      0.70      0.75       368\n",
            "weighted avg       0.89      0.89      0.88       368\n",
            "\n"
          ]
        },
        {
          "output_type": "display_data",
          "data": {
            "image/png": "[encoded data removed]",
            "text/plain": [
              "<Figure size 432x288 with 2 Axes>"
            ]
          },
          "metadata": {
            "needs_background": "light"
          }
        }
      ]
    },
    {
      "cell_type": "markdown",
      "source": [
        "### **Modelo de Random Forest**"
      ],
      "metadata": {
        "id": "4lH4vCBNQdEa"
      }
    },
    {
      "cell_type": "code",
      "source": [
        "\"\"\" Importação das bibliotecas necessárias para aplicação da arvore de decisão \"\"\"\n",
        "from sklearn.ensemble import RandomForestClassifier\n",
        "\n",
        "\n",
        "class arvore_decisao:\n",
        "    def __init__(self, dadostreino) -> None:\n",
        "        self.X_train = dadostreino[0]\n",
        "        self.y_train = dadostreino[1]\n",
        "        self.X_test = dadostreino[2]\n",
        "\n",
        "    def ArvoreTreinar(self):\n",
        "        \"\"\" Instanciando e treinando o modelo de Random Forest \"\"\"\n",
        "        arvore = RandomForestClassifier() # Instanciando\n",
        "        arvore.fit(self.X_train, self.y_train) # Realizando o treinamento\n",
        "        return arvore\n",
        "\n",
        "    def DefinindoPreditorArvore(self, arvore):\n",
        "        y_pred = arvore.predict(self.X_test) # Gerando a variavel preditora\n",
        "        return y_pred\n"
      ],
      "metadata": {
        "id": "qVxZVZm1QgKX"
      },
      "execution_count": 85,
      "outputs": []
    },
    {
      "cell_type": "code",
      "source": [
        "Mod_RF = arvore_decisao(treinamento_ml)\n",
        "treinar_arvore = Mod_RF.DefinindoPreditorArvore(Mod_RF.ArvoreTreinar())\n"
      ],
      "metadata": {
        "id": "QihU3WT1RjN4"
      },
      "execution_count": 86,
      "outputs": []
    },
    {
      "cell_type": "code",
      "source": [
        "metricas_RF = metricaseavaliacoes(treinamento_ml, treinar_arvore) # Instanciando a classe de treinamento do modelo de Random Forest\n"
      ],
      "metadata": {
        "id": "EC-RfpRAT_Ts"
      },
      "execution_count": 87,
      "outputs": []
    },
    {
      "cell_type": "code",
      "source": [
        "\"\"\" Exibindo Métricas Random Forest \"\"\"\n",
        "\n",
        "metricas_RF.MatrizDeConfusao() # Matriz de confusão\n",
        "print(metricas_RF.ClassificacaoKPIs()) # Classificador de KPIs"
      ],
      "metadata": {
        "colab": {
          "base_uri": "https://localhost:8080/",
          "height": 456
        },
        "id": "XzhtodNLvyS7",
        "outputId": "f1caf47c-891a-4f95-944b-b924a6271e01"
      },
      "execution_count": 88,
      "outputs": [
        {
          "output_type": "stream",
          "name": "stdout",
          "text": [
            "[[308   1]\n",
            " [ 49  10]]\n",
            "              precision    recall  f1-score   support\n",
            "\n",
            "           0       0.86      1.00      0.92       309\n",
            "           1       0.91      0.17      0.29        59\n",
            "\n",
            "    accuracy                           0.86       368\n",
            "   macro avg       0.89      0.58      0.61       368\n",
            "weighted avg       0.87      0.86      0.82       368\n",
            "\n"
          ]
        },
        {
          "output_type": "display_data",
          "data": {
            "image/png": "[encoded data removed]",
            "text/plain": [
              "<Figure size 432x288 with 2 Axes>"
            ]
          },
          "metadata": {
            "needs_background": "light"
          }
        }
      ]
    },
    {
      "cell_type": "markdown",
      "source": [
        "### **Implementação de Redes Neurais - TensorFlow**"
      ],
      "metadata": {
        "id": "D0hGMVEzb9_a"
      }
    },
    {
      "cell_type": "code",
      "source": [
        "\"\"\" Importando bibliotecas necessárias \"\"\"\n",
        "import tensorflow as tf\n",
        "\n",
        "\n",
        "class r_neural:\n",
        "    def __init__(self, X, dadostt) -> None:\n",
        "        \"\"\" Formula para definir a quantidade de neuronios deverá ser implementado na rede neural QN = (QE + QS) / 2 \"\"\"\n",
        "        self.X = X\n",
        "        self.QE = len(self.X[0]) # Quantidade de entradas (colunas no dataset)\n",
        "        self.QS = 1 # Somatorio da quantidade de saídas esperada\n",
        "        self.QN = int((self.QE + self.QS) / 2) # Quantidade de Neuronios\n",
        "        self.X_train = dadostt[0]\n",
        "        self.y_train = dadostt[1]\n",
        "        self.X_test = dadostt[2]\n",
        "\n",
        "    def CriarNeuronios(self):\n",
        "        rede_neural = tf.keras.models.Sequential() # Definindo neuronios\n",
        "\n",
        "        \"\"\" Camadas ocultas \"\"\"\n",
        "        rede_neural.add(tf.keras.layers.Dense(units=self.QN, activation='relu', input_shape=(self.QE,)))\n",
        "        rede_neural.add(tf.keras.layers.Dense(units=self.QN, activation='relu'))\n",
        "        rede_neural.add(tf.keras.layers.Dense(units=self.QN, activation='relu'))\n",
        "\n",
        "        \"\"\" Camada de saída \"\"\"\n",
        "        rede_neural.add(tf.keras.layers.Dense(units=self.QS, activation='sigmoid'))\n",
        "        return rede_neural\n",
        "\n",
        "    def SumarioRedeNeural(self, rede_neural: Type[CriarNeuronios]):\n",
        "        \"\"\" Visualisando o sumario da rede neural \"\"\"\n",
        "        return rede_neural.summary()\n",
        "\n",
        "    def CompilarRedeNeural(self,rede_neural):\n",
        "        \"\"\" Compilando a rede neural \"\"\"\n",
        "        rede_neural.compile(optimizer='Adam', loss='binary_crossentropy', metrics='accuracy')\n",
        "        return rede_neural\n",
        "    \n",
        "    def NeuronioTreinar(self, rede_neural):\n",
        "        rede_neural.fit(self.X_train, self.y_train, epochs=200) # Treinando a rede neural\n",
        "        return rede_neural\n",
        "        \n",
        "    def definindo_preditor_Neural(self, rede_neural):\n",
        "        y_pred = rede_neural.predict(self.X_test) # Variavel preditora\n",
        "        y_pred = (y_pred >= 0.5) # formatando a variavel preditora para True ou False\n",
        "        return y_pred"
      ],
      "metadata": {
        "id": "8SF28oGjcJdF"
      },
      "execution_count": 89,
      "outputs": []
    },
    {
      "cell_type": "code",
      "source": [
        "Mod_RN = r_neural(rl.normalizando_data(unind), treinamento_ml)\n",
        "compilar_RN = Mod_RN.CompilarRedeNeural(Mod_RN.CriarNeuronios())\n",
        "treinar_RN = Mod_RN.definindo_preditor_Neural(Mod_RN.NeuronioTreinar(compilar_RN))\n"
      ],
      "metadata": {
        "id": "F40n2nOZmU79"
      },
      "execution_count": null,
      "outputs": []
    },
    {
      "cell_type": "code",
      "source": [
        "metricas_RN = metricaseavaliacoes(treinamento_ml, treinar_RN) # Instanciando a classe de treinamento do modelo de Random Forest"
      ],
      "metadata": {
        "id": "h03-99AhnFlI"
      },
      "execution_count": 91,
      "outputs": []
    },
    {
      "cell_type": "code",
      "source": [
        "\"\"\" Exibindo Métricas Redes Neurais \"\"\"\n",
        "\n",
        "metricas_RN.MatrizDeConfusao() # Matriz de confusão\n",
        "print(metricas_RN.ClassificacaoKPIs()) # Classificador de KPIs"
      ],
      "metadata": {
        "colab": {
          "base_uri": "https://localhost:8080/",
          "height": 456
        },
        "id": "JWcj8JA8SerS",
        "outputId": "8456f250-e977-455a-e263-66e969d66bf0"
      },
      "execution_count": 92,
      "outputs": [
        {
          "output_type": "stream",
          "name": "stdout",
          "text": [
            "[[291  18]\n",
            " [ 39  20]]\n",
            "              precision    recall  f1-score   support\n",
            "\n",
            "           0       0.88      0.94      0.91       309\n",
            "           1       0.53      0.34      0.41        59\n",
            "\n",
            "    accuracy                           0.85       368\n",
            "   macro avg       0.70      0.64      0.66       368\n",
            "weighted avg       0.82      0.85      0.83       368\n",
            "\n"
          ]
        },
        {
          "output_type": "display_data",
          "data": {
            "image/png": "[encoded data removed]",
            "text/plain": [
              "<Figure size 432x288 with 2 Axes>"
            ]
          },
          "metadata": {
            "needs_background": "light"
          }
        }
      ]
    },
    {
      "cell_type": "markdown",
      "source": [
        "### **Salvando Classificador**"
      ],
      "metadata": {
        "id": "3iq6ch53TYcm"
      }
    },
    {
      "cell_type": "code",
      "source": [
        "\"\"\" Importando biblioteca necessária \"\"\"\n",
        "import pickle\n",
        "\n",
        "\n",
        "with open('Modelo_Regressão_logista.pkl', 'wb') as f:\n",
        "    pickle.dump([onehotencoder, scaler, Mod_logistico], f)"
      ],
      "metadata": {
        "id": "_O_WyNYiTl9p"
      },
      "execution_count": 93,
      "outputs": []
    },
    {
      "cell_type": "markdown",
      "source": [
        "### **Testando Classificador**"
      ],
      "metadata": {
        "id": "0MJSHo5cxdgO"
      }
    },
    {
      "cell_type": "code",
      "source": [
        "\"\"\" Abrindo o arquivo do modelo realizando a leitura e atribuindo as variaveis encolder,min_max e model \"\"\"\n",
        "\n",
        "with open('Modelo_Regressão_logista.pkl', 'rb') as f:\n",
        "    encolder, min_max, model = pickle.load(f)"
      ],
      "metadata": {
        "id": "9QLs52D-xocM"
      },
      "execution_count": 94,
      "outputs": []
    },
    {
      "cell_type": "code",
      "source": [
        "\"\"\" Acessando os atribuitos das variaveis \"\"\"\n",
        "\n",
        "encolder, min_max, model"
      ],
      "metadata": {
        "colab": {
          "base_uri": "https://localhost:8080/"
        },
        "id": "P2Enj8-by300",
        "outputId": "dd0b2c19-6e19-4283-cd08-eb7f34d4b2b4"
      },
      "execution_count": 95,
      "outputs": [
        {
          "output_type": "execute_result",
          "data": {
            "text/plain": [
              "(OneHotEncoder(), MinMaxScaler(), LogisticRegression())"
            ]
          },
          "metadata": {},
          "execution_count": 95
        }
      ]
    },
    {
      "cell_type": "code",
      "source": [
        "\"\"\"Criando um novo registro para testar o modelo\"\"\"\n",
        "\n",
        "X_novo = trabalhador_df.iloc[0:1]\n",
        "X_novo"
      ],
      "metadata": {
        "colab": {
          "base_uri": "https://localhost:8080/",
          "height": 174
        },
        "id": "W4MKO-RFzG8I",
        "outputId": "24e6b9a9-a386-4c7b-8b4a-fc8eef6801ff"
      },
      "execution_count": 96,
      "outputs": [
        {
          "output_type": "execute_result",
          "data": {
            "text/html": [
              "\n",
              "  <div id=\"df-3241388e-782f-4ed8-997e-d30c4e0c1b3a\">\n",
              "    <div class=\"colab-df-container\">\n",
              "      <div>\n",
              "<style scoped>\n",
              "    .dataframe tbody tr th:only-of-type {\n",
              "        vertical-align: middle;\n",
              "    }\n",
              "\n",
              "    .dataframe tbody tr th {\n",
              "        vertical-align: top;\n",
              "    }\n",
              "\n",
              "    .dataframe thead th {\n",
              "        text-align: right;\n",
              "    }\n",
              "</style>\n",
              "<table border=\"1\" class=\"dataframe\">\n",
              "  <thead>\n",
              "    <tr style=\"text-align: right;\">\n",
              "      <th></th>\n",
              "      <th>Age</th>\n",
              "      <th>Attrition</th>\n",
              "      <th>BusinessTravel</th>\n",
              "      <th>DailyRate</th>\n",
              "      <th>Department</th>\n",
              "      <th>DistanceFromHome</th>\n",
              "      <th>Education</th>\n",
              "      <th>EducationField</th>\n",
              "      <th>EnvironmentSatisfaction</th>\n",
              "      <th>Gender</th>\n",
              "      <th>...</th>\n",
              "      <th>PerformanceRating</th>\n",
              "      <th>RelationshipSatisfaction</th>\n",
              "      <th>StockOptionLevel</th>\n",
              "      <th>TotalWorkingYears</th>\n",
              "      <th>TrainingTimesLastYear</th>\n",
              "      <th>WorkLifeBalance</th>\n",
              "      <th>YearsAtCompany</th>\n",
              "      <th>YearsInCurrentRole</th>\n",
              "      <th>YearsSinceLastPromotion</th>\n",
              "      <th>YearsWithCurrManager</th>\n",
              "    </tr>\n",
              "  </thead>\n",
              "  <tbody>\n",
              "    <tr>\n",
              "      <th>0</th>\n",
              "      <td>41</td>\n",
              "      <td>1</td>\n",
              "      <td>Travel_Rarely</td>\n",
              "      <td>1102</td>\n",
              "      <td>Sales</td>\n",
              "      <td>1</td>\n",
              "      <td>2</td>\n",
              "      <td>Life Sciences</td>\n",
              "      <td>2</td>\n",
              "      <td>Female</td>\n",
              "      <td>...</td>\n",
              "      <td>3</td>\n",
              "      <td>1</td>\n",
              "      <td>0</td>\n",
              "      <td>8</td>\n",
              "      <td>0</td>\n",
              "      <td>1</td>\n",
              "      <td>6</td>\n",
              "      <td>4</td>\n",
              "      <td>0</td>\n",
              "      <td>5</td>\n",
              "    </tr>\n",
              "  </tbody>\n",
              "</table>\n",
              "<p>1 rows × 31 columns</p>\n",
              "</div>\n",
              "      <button class=\"colab-df-convert\" onclick=\"convertToInteractive('df-3241388e-782f-4ed8-997e-d30c4e0c1b3a')\"\n",
              "              title=\"Convert this dataframe to an interactive table.\"\n",
              "              style=\"display:none;\">\n",
              "        \n",
              "  <svg xmlns=\"http://www.w3.org/2000/svg\" height=\"24px\"viewBox=\"0 0 24 24\"\n",
              "       width=\"24px\">\n",
              "    <path d=\"M0 0h24v24H0V0z\" fill=\"none\"/>\n",
              "    <path d=\"M18.56 5.44l.94 2.06.94-2.06 2.06-.94-2.06-.94-.94-2.06-.94 2.06-2.06.94zm-11 1L8.5 8.5l.94-2.06 2.06-.94-2.06-.94L8.5 2.5l-.94 2.06-2.06.94zm10 10l.94 2.06.94-2.06 2.06-.94-2.06-.94-.94-2.06-.94 2.06-2.06.94z\"/><path d=\"M17.41 7.96l-1.37-1.37c-.4-.4-.92-.59-1.43-.59-.52 0-1.04.2-1.43.59L10.3 9.45l-7.72 7.72c-.78.78-.78 2.05 0 2.83L4 21.41c.39.39.9.59 1.41.59.51 0 1.02-.2 1.41-.59l7.78-7.78 2.81-2.81c.8-.78.8-2.07 0-2.86zM5.41 20L4 18.59l7.72-7.72 1.47 1.35L5.41 20z\"/>\n",
              "  </svg>\n",
              "      </button>\n",
              "      \n",
              "  <style>\n",
              "    .colab-df-container {\n",
              "      display:flex;\n",
              "      flex-wrap:wrap;\n",
              "      gap: 12px;\n",
              "    }\n",
              "\n",
              "    .colab-df-convert {\n",
              "      background-color: #E8F0FE;\n",
              "      border: none;\n",
              "      border-radius: 50%;\n",
              "      cursor: pointer;\n",
              "      display: none;\n",
              "      fill: #1967D2;\n",
              "      height: 32px;\n",
              "      padding: 0 0 0 0;\n",
              "      width: 32px;\n",
              "    }\n",
              "\n",
              "    .colab-df-convert:hover {\n",
              "      background-color: #E2EBFA;\n",
              "      box-shadow: 0px 1px 2px rgba(60, 64, 67, 0.3), 0px 1px 3px 1px rgba(60, 64, 67, 0.15);\n",
              "      fill: #174EA6;\n",
              "    }\n",
              "\n",
              "    [theme=dark] .colab-df-convert {\n",
              "      background-color: #3B4455;\n",
              "      fill: #D2E3FC;\n",
              "    }\n",
              "\n",
              "    [theme=dark] .colab-df-convert:hover {\n",
              "      background-color: #434B5C;\n",
              "      box-shadow: 0px 1px 3px 1px rgba(0, 0, 0, 0.15);\n",
              "      filter: drop-shadow(0px 1px 2px rgba(0, 0, 0, 0.3));\n",
              "      fill: #FFFFFF;\n",
              "    }\n",
              "  </style>\n",
              "\n",
              "      <script>\n",
              "        const buttonEl =\n",
              "          document.querySelector('#df-3241388e-782f-4ed8-997e-d30c4e0c1b3a button.colab-df-convert');\n",
              "        buttonEl.style.display =\n",
              "          google.colab.kernel.accessAllowed ? 'block' : 'none';\n",
              "\n",
              "        async function convertToInteractive(key) {\n",
              "          const element = document.querySelector('#df-3241388e-782f-4ed8-997e-d30c4e0c1b3a');\n",
              "          const dataTable =\n",
              "            await google.colab.kernel.invokeFunction('convertToInteractive',\n",
              "                                                     [key], {});\n",
              "          if (!dataTable) return;\n",
              "\n",
              "          const docLinkHtml = 'Like what you see? Visit the ' +\n",
              "            '<a target=\"_blank\" href=https://colab.research.google.com/notebooks/data_table.ipynb>data table notebook</a>'\n",
              "            + ' to learn more about interactive tables.';\n",
              "          element.innerHTML = '';\n",
              "          dataTable['output_type'] = 'display_data';\n",
              "          await google.colab.output.renderOutput(dataTable, element);\n",
              "          const docLink = document.createElement('div');\n",
              "          docLink.innerHTML = docLinkHtml;\n",
              "          element.appendChild(docLink);\n",
              "        }\n",
              "      </script>\n",
              "    </div>\n",
              "  </div>\n",
              "  "
            ],
            "text/plain": [
              "   Age  Attrition BusinessTravel  DailyRate Department  DistanceFromHome  \\\n",
              "0   41          1  Travel_Rarely       1102      Sales                 1   \n",
              "\n",
              "   Education EducationField  EnvironmentSatisfaction  Gender  ...  \\\n",
              "0          2  Life Sciences                        2  Female  ...   \n",
              "\n",
              "   PerformanceRating  RelationshipSatisfaction  StockOptionLevel  \\\n",
              "0                  3                         1                 0   \n",
              "\n",
              "  TotalWorkingYears  TrainingTimesLastYear WorkLifeBalance  YearsAtCompany  \\\n",
              "0                 8                      0               1               6   \n",
              "\n",
              "   YearsInCurrentRole  YearsSinceLastPromotion  YearsWithCurrManager  \n",
              "0                   4                        0                     5  \n",
              "\n",
              "[1 rows x 31 columns]"
            ]
          },
          "metadata": {},
          "execution_count": 96
        }
      ]
    },
    {
      "cell_type": "code",
      "source": [
        "\"\"\"Separando atributos categóricos de X_novo\"\"\"\n",
        "\n",
        "X_cat_novo = X_novo.select_dtypes(include=['object'])\n",
        "X_cat_novo"
      ],
      "metadata": {
        "colab": {
          "base_uri": "https://localhost:8080/",
          "height": 81
        },
        "id": "CID5Z9CDE40i",
        "outputId": "0c6e2ebb-5924-4b45-b575-ea490d3dfd06"
      },
      "execution_count": 97,
      "outputs": [
        {
          "output_type": "execute_result",
          "data": {
            "text/html": [
              "\n",
              "  <div id=\"df-51a1f459-956b-478a-beea-deef41af37a2\">\n",
              "    <div class=\"colab-df-container\">\n",
              "      <div>\n",
              "<style scoped>\n",
              "    .dataframe tbody tr th:only-of-type {\n",
              "        vertical-align: middle;\n",
              "    }\n",
              "\n",
              "    .dataframe tbody tr th {\n",
              "        vertical-align: top;\n",
              "    }\n",
              "\n",
              "    .dataframe thead th {\n",
              "        text-align: right;\n",
              "    }\n",
              "</style>\n",
              "<table border=\"1\" class=\"dataframe\">\n",
              "  <thead>\n",
              "    <tr style=\"text-align: right;\">\n",
              "      <th></th>\n",
              "      <th>BusinessTravel</th>\n",
              "      <th>Department</th>\n",
              "      <th>EducationField</th>\n",
              "      <th>Gender</th>\n",
              "      <th>JobRole</th>\n",
              "      <th>MaritalStatus</th>\n",
              "    </tr>\n",
              "  </thead>\n",
              "  <tbody>\n",
              "    <tr>\n",
              "      <th>0</th>\n",
              "      <td>Travel_Rarely</td>\n",
              "      <td>Sales</td>\n",
              "      <td>Life Sciences</td>\n",
              "      <td>Female</td>\n",
              "      <td>Sales Executive</td>\n",
              "      <td>Single</td>\n",
              "    </tr>\n",
              "  </tbody>\n",
              "</table>\n",
              "</div>\n",
              "      <button class=\"colab-df-convert\" onclick=\"convertToInteractive('df-51a1f459-956b-478a-beea-deef41af37a2')\"\n",
              "              title=\"Convert this dataframe to an interactive table.\"\n",
              "              style=\"display:none;\">\n",
              "        \n",
              "  <svg xmlns=\"http://www.w3.org/2000/svg\" height=\"24px\"viewBox=\"0 0 24 24\"\n",
              "       width=\"24px\">\n",
              "    <path d=\"M0 0h24v24H0V0z\" fill=\"none\"/>\n",
              "    <path d=\"M18.56 5.44l.94 2.06.94-2.06 2.06-.94-2.06-.94-.94-2.06-.94 2.06-2.06.94zm-11 1L8.5 8.5l.94-2.06 2.06-.94-2.06-.94L8.5 2.5l-.94 2.06-2.06.94zm10 10l.94 2.06.94-2.06 2.06-.94-2.06-.94-.94-2.06-.94 2.06-2.06.94z\"/><path d=\"M17.41 7.96l-1.37-1.37c-.4-.4-.92-.59-1.43-.59-.52 0-1.04.2-1.43.59L10.3 9.45l-7.72 7.72c-.78.78-.78 2.05 0 2.83L4 21.41c.39.39.9.59 1.41.59.51 0 1.02-.2 1.41-.59l7.78-7.78 2.81-2.81c.8-.78.8-2.07 0-2.86zM5.41 20L4 18.59l7.72-7.72 1.47 1.35L5.41 20z\"/>\n",
              "  </svg>\n",
              "      </button>\n",
              "      \n",
              "  <style>\n",
              "    .colab-df-container {\n",
              "      display:flex;\n",
              "      flex-wrap:wrap;\n",
              "      gap: 12px;\n",
              "    }\n",
              "\n",
              "    .colab-df-convert {\n",
              "      background-color: #E8F0FE;\n",
              "      border: none;\n",
              "      border-radius: 50%;\n",
              "      cursor: pointer;\n",
              "      display: none;\n",
              "      fill: #1967D2;\n",
              "      height: 32px;\n",
              "      padding: 0 0 0 0;\n",
              "      width: 32px;\n",
              "    }\n",
              "\n",
              "    .colab-df-convert:hover {\n",
              "      background-color: #E2EBFA;\n",
              "      box-shadow: 0px 1px 2px rgba(60, 64, 67, 0.3), 0px 1px 3px 1px rgba(60, 64, 67, 0.15);\n",
              "      fill: #174EA6;\n",
              "    }\n",
              "\n",
              "    [theme=dark] .colab-df-convert {\n",
              "      background-color: #3B4455;\n",
              "      fill: #D2E3FC;\n",
              "    }\n",
              "\n",
              "    [theme=dark] .colab-df-convert:hover {\n",
              "      background-color: #434B5C;\n",
              "      box-shadow: 0px 1px 3px 1px rgba(0, 0, 0, 0.15);\n",
              "      filter: drop-shadow(0px 1px 2px rgba(0, 0, 0, 0.3));\n",
              "      fill: #FFFFFF;\n",
              "    }\n",
              "  </style>\n",
              "\n",
              "      <script>\n",
              "        const buttonEl =\n",
              "          document.querySelector('#df-51a1f459-956b-478a-beea-deef41af37a2 button.colab-df-convert');\n",
              "        buttonEl.style.display =\n",
              "          google.colab.kernel.accessAllowed ? 'block' : 'none';\n",
              "\n",
              "        async function convertToInteractive(key) {\n",
              "          const element = document.querySelector('#df-51a1f459-956b-478a-beea-deef41af37a2');\n",
              "          const dataTable =\n",
              "            await google.colab.kernel.invokeFunction('convertToInteractive',\n",
              "                                                     [key], {});\n",
              "          if (!dataTable) return;\n",
              "\n",
              "          const docLinkHtml = 'Like what you see? Visit the ' +\n",
              "            '<a target=\"_blank\" href=https://colab.research.google.com/notebooks/data_table.ipynb>data table notebook</a>'\n",
              "            + ' to learn more about interactive tables.';\n",
              "          element.innerHTML = '';\n",
              "          dataTable['output_type'] = 'display_data';\n",
              "          await google.colab.output.renderOutput(dataTable, element);\n",
              "          const docLink = document.createElement('div');\n",
              "          docLink.innerHTML = docLinkHtml;\n",
              "          element.appendChild(docLink);\n",
              "        }\n",
              "      </script>\n",
              "    </div>\n",
              "  </div>\n",
              "  "
            ],
            "text/plain": [
              "  BusinessTravel Department EducationField  Gender          JobRole  \\\n",
              "0  Travel_Rarely      Sales  Life Sciences  Female  Sales Executive   \n",
              "\n",
              "  MaritalStatus  \n",
              "0        Single  "
            ]
          },
          "metadata": {},
          "execution_count": 97
        }
      ]
    },
    {
      "cell_type": "code",
      "source": [
        "\"\"\"Transformando em variaveis Dammy e convertendo em Array\"\"\"\n",
        "\n",
        "X_cat_novo = encolder.transform(X_cat_novo).toarray()\n",
        "X_cat_novo = pd.DataFrame(X_cat_novo)\n",
        "X_cat_novo"
      ],
      "metadata": {
        "colab": {
          "base_uri": "https://localhost:8080/",
          "height": 110
        },
        "id": "uv-B7XVqEFGm",
        "outputId": "7d8a0b38-9a35-4ef6-a351-ed44ea5f8d58"
      },
      "execution_count": 98,
      "outputs": [
        {
          "output_type": "execute_result",
          "data": {
            "text/html": [
              "\n",
              "  <div id=\"df-5c65aca0-6cfd-4ccb-9b89-ec4b9357eed0\">\n",
              "    <div class=\"colab-df-container\">\n",
              "      <div>\n",
              "<style scoped>\n",
              "    .dataframe tbody tr th:only-of-type {\n",
              "        vertical-align: middle;\n",
              "    }\n",
              "\n",
              "    .dataframe tbody tr th {\n",
              "        vertical-align: top;\n",
              "    }\n",
              "\n",
              "    .dataframe thead th {\n",
              "        text-align: right;\n",
              "    }\n",
              "</style>\n",
              "<table border=\"1\" class=\"dataframe\">\n",
              "  <thead>\n",
              "    <tr style=\"text-align: right;\">\n",
              "      <th></th>\n",
              "      <th>0</th>\n",
              "      <th>1</th>\n",
              "      <th>2</th>\n",
              "      <th>3</th>\n",
              "      <th>4</th>\n",
              "      <th>5</th>\n",
              "      <th>6</th>\n",
              "      <th>7</th>\n",
              "      <th>8</th>\n",
              "      <th>9</th>\n",
              "      <th>...</th>\n",
              "      <th>16</th>\n",
              "      <th>17</th>\n",
              "      <th>18</th>\n",
              "      <th>19</th>\n",
              "      <th>20</th>\n",
              "      <th>21</th>\n",
              "      <th>22</th>\n",
              "      <th>23</th>\n",
              "      <th>24</th>\n",
              "      <th>25</th>\n",
              "    </tr>\n",
              "  </thead>\n",
              "  <tbody>\n",
              "    <tr>\n",
              "      <th>0</th>\n",
              "      <td>0.0</td>\n",
              "      <td>0.0</td>\n",
              "      <td>1.0</td>\n",
              "      <td>0.0</td>\n",
              "      <td>0.0</td>\n",
              "      <td>1.0</td>\n",
              "      <td>0.0</td>\n",
              "      <td>1.0</td>\n",
              "      <td>0.0</td>\n",
              "      <td>0.0</td>\n",
              "      <td>...</td>\n",
              "      <td>0.0</td>\n",
              "      <td>0.0</td>\n",
              "      <td>0.0</td>\n",
              "      <td>0.0</td>\n",
              "      <td>0.0</td>\n",
              "      <td>1.0</td>\n",
              "      <td>0.0</td>\n",
              "      <td>0.0</td>\n",
              "      <td>0.0</td>\n",
              "      <td>1.0</td>\n",
              "    </tr>\n",
              "  </tbody>\n",
              "</table>\n",
              "<p>1 rows × 26 columns</p>\n",
              "</div>\n",
              "      <button class=\"colab-df-convert\" onclick=\"convertToInteractive('df-5c65aca0-6cfd-4ccb-9b89-ec4b9357eed0')\"\n",
              "              title=\"Convert this dataframe to an interactive table.\"\n",
              "              style=\"display:none;\">\n",
              "        \n",
              "  <svg xmlns=\"http://www.w3.org/2000/svg\" height=\"24px\"viewBox=\"0 0 24 24\"\n",
              "       width=\"24px\">\n",
              "    <path d=\"M0 0h24v24H0V0z\" fill=\"none\"/>\n",
              "    <path d=\"M18.56 5.44l.94 2.06.94-2.06 2.06-.94-2.06-.94-.94-2.06-.94 2.06-2.06.94zm-11 1L8.5 8.5l.94-2.06 2.06-.94-2.06-.94L8.5 2.5l-.94 2.06-2.06.94zm10 10l.94 2.06.94-2.06 2.06-.94-2.06-.94-.94-2.06-.94 2.06-2.06.94z\"/><path d=\"M17.41 7.96l-1.37-1.37c-.4-.4-.92-.59-1.43-.59-.52 0-1.04.2-1.43.59L10.3 9.45l-7.72 7.72c-.78.78-.78 2.05 0 2.83L4 21.41c.39.39.9.59 1.41.59.51 0 1.02-.2 1.41-.59l7.78-7.78 2.81-2.81c.8-.78.8-2.07 0-2.86zM5.41 20L4 18.59l7.72-7.72 1.47 1.35L5.41 20z\"/>\n",
              "  </svg>\n",
              "      </button>\n",
              "      \n",
              "  <style>\n",
              "    .colab-df-container {\n",
              "      display:flex;\n",
              "      flex-wrap:wrap;\n",
              "      gap: 12px;\n",
              "    }\n",
              "\n",
              "    .colab-df-convert {\n",
              "      background-color: #E8F0FE;\n",
              "      border: none;\n",
              "      border-radius: 50%;\n",
              "      cursor: pointer;\n",
              "      display: none;\n",
              "      fill: #1967D2;\n",
              "      height: 32px;\n",
              "      padding: 0 0 0 0;\n",
              "      width: 32px;\n",
              "    }\n",
              "\n",
              "    .colab-df-convert:hover {\n",
              "      background-color: #E2EBFA;\n",
              "      box-shadow: 0px 1px 2px rgba(60, 64, 67, 0.3), 0px 1px 3px 1px rgba(60, 64, 67, 0.15);\n",
              "      fill: #174EA6;\n",
              "    }\n",
              "\n",
              "    [theme=dark] .colab-df-convert {\n",
              "      background-color: #3B4455;\n",
              "      fill: #D2E3FC;\n",
              "    }\n",
              "\n",
              "    [theme=dark] .colab-df-convert:hover {\n",
              "      background-color: #434B5C;\n",
              "      box-shadow: 0px 1px 3px 1px rgba(0, 0, 0, 0.15);\n",
              "      filter: drop-shadow(0px 1px 2px rgba(0, 0, 0, 0.3));\n",
              "      fill: #FFFFFF;\n",
              "    }\n",
              "  </style>\n",
              "\n",
              "      <script>\n",
              "        const buttonEl =\n",
              "          document.querySelector('#df-5c65aca0-6cfd-4ccb-9b89-ec4b9357eed0 button.colab-df-convert');\n",
              "        buttonEl.style.display =\n",
              "          google.colab.kernel.accessAllowed ? 'block' : 'none';\n",
              "\n",
              "        async function convertToInteractive(key) {\n",
              "          const element = document.querySelector('#df-5c65aca0-6cfd-4ccb-9b89-ec4b9357eed0');\n",
              "          const dataTable =\n",
              "            await google.colab.kernel.invokeFunction('convertToInteractive',\n",
              "                                                     [key], {});\n",
              "          if (!dataTable) return;\n",
              "\n",
              "          const docLinkHtml = 'Like what you see? Visit the ' +\n",
              "            '<a target=\"_blank\" href=https://colab.research.google.com/notebooks/data_table.ipynb>data table notebook</a>'\n",
              "            + ' to learn more about interactive tables.';\n",
              "          element.innerHTML = '';\n",
              "          dataTable['output_type'] = 'display_data';\n",
              "          await google.colab.output.renderOutput(dataTable, element);\n",
              "          const docLink = document.createElement('div');\n",
              "          docLink.innerHTML = docLinkHtml;\n",
              "          element.appendChild(docLink);\n",
              "        }\n",
              "      </script>\n",
              "    </div>\n",
              "  </div>\n",
              "  "
            ],
            "text/plain": [
              "    0    1    2    3    4    5    6    7    8    9   ...   16   17   18   19  \\\n",
              "0  0.0  0.0  1.0  0.0  0.0  1.0  0.0  1.0  0.0  0.0  ...  0.0  0.0  0.0  0.0   \n",
              "\n",
              "    20   21   22   23   24   25  \n",
              "0  0.0  1.0  0.0  0.0  0.0  1.0  \n",
              "\n",
              "[1 rows x 26 columns]"
            ]
          },
          "metadata": {},
          "execution_count": 98
        }
      ]
    },
    {
      "cell_type": "code",
      "source": [
        "\"\"\"Separando atributos numericos de X_numerico_novo\"\"\"\n",
        "\n",
        "X_numerico_novo = X_novo.select_dtypes(include=['int64'])\n",
        "X_numerico_novo.drop(['Attrition'], axis=1, inplace=True)\n",
        "X_numerico_novo"
      ],
      "metadata": {
        "colab": {
          "base_uri": "https://localhost:8080/",
          "height": 261
        },
        "id": "bjGAXUfcFALo",
        "outputId": "65b94e5e-823e-4ab1-98b3-8628604aa4aa"
      },
      "execution_count": 99,
      "outputs": [
        {
          "output_type": "stream",
          "name": "stderr",
          "text": [
            "/usr/local/lib/python3.7/dist-packages/pandas/core/frame.py:4913: SettingWithCopyWarning: \n",
            "A value is trying to be set on a copy of a slice from a DataFrame\n",
            "\n",
            "See the caveats in the documentation: https://pandas.pydata.org/pandas-docs/stable/user_guide/indexing.html#returning-a-view-versus-a-copy\n",
            "  errors=errors,\n"
          ]
        },
        {
          "output_type": "execute_result",
          "data": {
            "text/html": [
              "\n",
              "  <div id=\"df-ff9e064e-b165-4b3f-9d27-ba228c47d212\">\n",
              "    <div class=\"colab-df-container\">\n",
              "      <div>\n",
              "<style scoped>\n",
              "    .dataframe tbody tr th:only-of-type {\n",
              "        vertical-align: middle;\n",
              "    }\n",
              "\n",
              "    .dataframe tbody tr th {\n",
              "        vertical-align: top;\n",
              "    }\n",
              "\n",
              "    .dataframe thead th {\n",
              "        text-align: right;\n",
              "    }\n",
              "</style>\n",
              "<table border=\"1\" class=\"dataframe\">\n",
              "  <thead>\n",
              "    <tr style=\"text-align: right;\">\n",
              "      <th></th>\n",
              "      <th>Age</th>\n",
              "      <th>DailyRate</th>\n",
              "      <th>DistanceFromHome</th>\n",
              "      <th>Education</th>\n",
              "      <th>EnvironmentSatisfaction</th>\n",
              "      <th>HourlyRate</th>\n",
              "      <th>JobInvolvement</th>\n",
              "      <th>JobLevel</th>\n",
              "      <th>JobSatisfaction</th>\n",
              "      <th>MonthlyIncome</th>\n",
              "      <th>...</th>\n",
              "      <th>PerformanceRating</th>\n",
              "      <th>RelationshipSatisfaction</th>\n",
              "      <th>StockOptionLevel</th>\n",
              "      <th>TotalWorkingYears</th>\n",
              "      <th>TrainingTimesLastYear</th>\n",
              "      <th>WorkLifeBalance</th>\n",
              "      <th>YearsAtCompany</th>\n",
              "      <th>YearsInCurrentRole</th>\n",
              "      <th>YearsSinceLastPromotion</th>\n",
              "      <th>YearsWithCurrManager</th>\n",
              "    </tr>\n",
              "  </thead>\n",
              "  <tbody>\n",
              "    <tr>\n",
              "      <th>0</th>\n",
              "      <td>41</td>\n",
              "      <td>1102</td>\n",
              "      <td>1</td>\n",
              "      <td>2</td>\n",
              "      <td>2</td>\n",
              "      <td>94</td>\n",
              "      <td>3</td>\n",
              "      <td>2</td>\n",
              "      <td>4</td>\n",
              "      <td>5993</td>\n",
              "      <td>...</td>\n",
              "      <td>3</td>\n",
              "      <td>1</td>\n",
              "      <td>0</td>\n",
              "      <td>8</td>\n",
              "      <td>0</td>\n",
              "      <td>1</td>\n",
              "      <td>6</td>\n",
              "      <td>4</td>\n",
              "      <td>0</td>\n",
              "      <td>5</td>\n",
              "    </tr>\n",
              "  </tbody>\n",
              "</table>\n",
              "<p>1 rows × 24 columns</p>\n",
              "</div>\n",
              "      <button class=\"colab-df-convert\" onclick=\"convertToInteractive('df-ff9e064e-b165-4b3f-9d27-ba228c47d212')\"\n",
              "              title=\"Convert this dataframe to an interactive table.\"\n",
              "              style=\"display:none;\">\n",
              "        \n",
              "  <svg xmlns=\"http://www.w3.org/2000/svg\" height=\"24px\"viewBox=\"0 0 24 24\"\n",
              "       width=\"24px\">\n",
              "    <path d=\"M0 0h24v24H0V0z\" fill=\"none\"/>\n",
              "    <path d=\"M18.56 5.44l.94 2.06.94-2.06 2.06-.94-2.06-.94-.94-2.06-.94 2.06-2.06.94zm-11 1L8.5 8.5l.94-2.06 2.06-.94-2.06-.94L8.5 2.5l-.94 2.06-2.06.94zm10 10l.94 2.06.94-2.06 2.06-.94-2.06-.94-.94-2.06-.94 2.06-2.06.94z\"/><path d=\"M17.41 7.96l-1.37-1.37c-.4-.4-.92-.59-1.43-.59-.52 0-1.04.2-1.43.59L10.3 9.45l-7.72 7.72c-.78.78-.78 2.05 0 2.83L4 21.41c.39.39.9.59 1.41.59.51 0 1.02-.2 1.41-.59l7.78-7.78 2.81-2.81c.8-.78.8-2.07 0-2.86zM5.41 20L4 18.59l7.72-7.72 1.47 1.35L5.41 20z\"/>\n",
              "  </svg>\n",
              "      </button>\n",
              "      \n",
              "  <style>\n",
              "    .colab-df-container {\n",
              "      display:flex;\n",
              "      flex-wrap:wrap;\n",
              "      gap: 12px;\n",
              "    }\n",
              "\n",
              "    .colab-df-convert {\n",
              "      background-color: #E8F0FE;\n",
              "      border: none;\n",
              "      border-radius: 50%;\n",
              "      cursor: pointer;\n",
              "      display: none;\n",
              "      fill: #1967D2;\n",
              "      height: 32px;\n",
              "      padding: 0 0 0 0;\n",
              "      width: 32px;\n",
              "    }\n",
              "\n",
              "    .colab-df-convert:hover {\n",
              "      background-color: #E2EBFA;\n",
              "      box-shadow: 0px 1px 2px rgba(60, 64, 67, 0.3), 0px 1px 3px 1px rgba(60, 64, 67, 0.15);\n",
              "      fill: #174EA6;\n",
              "    }\n",
              "\n",
              "    [theme=dark] .colab-df-convert {\n",
              "      background-color: #3B4455;\n",
              "      fill: #D2E3FC;\n",
              "    }\n",
              "\n",
              "    [theme=dark] .colab-df-convert:hover {\n",
              "      background-color: #434B5C;\n",
              "      box-shadow: 0px 1px 3px 1px rgba(0, 0, 0, 0.15);\n",
              "      filter: drop-shadow(0px 1px 2px rgba(0, 0, 0, 0.3));\n",
              "      fill: #FFFFFF;\n",
              "    }\n",
              "  </style>\n",
              "\n",
              "      <script>\n",
              "        const buttonEl =\n",
              "          document.querySelector('#df-ff9e064e-b165-4b3f-9d27-ba228c47d212 button.colab-df-convert');\n",
              "        buttonEl.style.display =\n",
              "          google.colab.kernel.accessAllowed ? 'block' : 'none';\n",
              "\n",
              "        async function convertToInteractive(key) {\n",
              "          const element = document.querySelector('#df-ff9e064e-b165-4b3f-9d27-ba228c47d212');\n",
              "          const dataTable =\n",
              "            await google.colab.kernel.invokeFunction('convertToInteractive',\n",
              "                                                     [key], {});\n",
              "          if (!dataTable) return;\n",
              "\n",
              "          const docLinkHtml = 'Like what you see? Visit the ' +\n",
              "            '<a target=\"_blank\" href=https://colab.research.google.com/notebooks/data_table.ipynb>data table notebook</a>'\n",
              "            + ' to learn more about interactive tables.';\n",
              "          element.innerHTML = '';\n",
              "          dataTable['output_type'] = 'display_data';\n",
              "          await google.colab.output.renderOutput(dataTable, element);\n",
              "          const docLink = document.createElement('div');\n",
              "          docLink.innerHTML = docLinkHtml;\n",
              "          element.appendChild(docLink);\n",
              "        }\n",
              "      </script>\n",
              "    </div>\n",
              "  </div>\n",
              "  "
            ],
            "text/plain": [
              "   Age  DailyRate  DistanceFromHome  Education  EnvironmentSatisfaction  \\\n",
              "0   41       1102                 1          2                        2   \n",
              "\n",
              "   HourlyRate  JobInvolvement  JobLevel  JobSatisfaction  MonthlyIncome  ...  \\\n",
              "0          94               3         2                4           5993  ...   \n",
              "\n",
              "   PerformanceRating  RelationshipSatisfaction  StockOptionLevel  \\\n",
              "0                  3                         1                 0   \n",
              "\n",
              "   TotalWorkingYears  TrainingTimesLastYear  WorkLifeBalance  YearsAtCompany  \\\n",
              "0                  8                      0                1               6   \n",
              "\n",
              "   YearsInCurrentRole  YearsSinceLastPromotion  YearsWithCurrManager  \n",
              "0                   4                        0                     5  \n",
              "\n",
              "[1 rows x 24 columns]"
            ]
          },
          "metadata": {},
          "execution_count": 99
        }
      ]
    },
    {
      "cell_type": "code",
      "source": [
        "\"\"\"Concatenando atributos numericos e categóricos\"\"\"\n",
        "\n",
        "X_all_novo = pd.concat([X_cat_novo, X_numerico_novo], axis=1)\n",
        "X_all_novo"
      ],
      "metadata": {
        "colab": {
          "base_uri": "https://localhost:8080/",
          "height": 174
        },
        "id": "c58uix1mHNbL",
        "outputId": "5456740c-09ec-48e6-bd15-7313cd09e8a6"
      },
      "execution_count": 100,
      "outputs": [
        {
          "output_type": "execute_result",
          "data": {
            "text/html": [
              "\n",
              "  <div id=\"df-a402cae0-eefb-4a8e-aaec-baa69069a58f\">\n",
              "    <div class=\"colab-df-container\">\n",
              "      <div>\n",
              "<style scoped>\n",
              "    .dataframe tbody tr th:only-of-type {\n",
              "        vertical-align: middle;\n",
              "    }\n",
              "\n",
              "    .dataframe tbody tr th {\n",
              "        vertical-align: top;\n",
              "    }\n",
              "\n",
              "    .dataframe thead th {\n",
              "        text-align: right;\n",
              "    }\n",
              "</style>\n",
              "<table border=\"1\" class=\"dataframe\">\n",
              "  <thead>\n",
              "    <tr style=\"text-align: right;\">\n",
              "      <th></th>\n",
              "      <th>0</th>\n",
              "      <th>1</th>\n",
              "      <th>2</th>\n",
              "      <th>3</th>\n",
              "      <th>4</th>\n",
              "      <th>5</th>\n",
              "      <th>6</th>\n",
              "      <th>7</th>\n",
              "      <th>8</th>\n",
              "      <th>9</th>\n",
              "      <th>...</th>\n",
              "      <th>PerformanceRating</th>\n",
              "      <th>RelationshipSatisfaction</th>\n",
              "      <th>StockOptionLevel</th>\n",
              "      <th>TotalWorkingYears</th>\n",
              "      <th>TrainingTimesLastYear</th>\n",
              "      <th>WorkLifeBalance</th>\n",
              "      <th>YearsAtCompany</th>\n",
              "      <th>YearsInCurrentRole</th>\n",
              "      <th>YearsSinceLastPromotion</th>\n",
              "      <th>YearsWithCurrManager</th>\n",
              "    </tr>\n",
              "  </thead>\n",
              "  <tbody>\n",
              "    <tr>\n",
              "      <th>0</th>\n",
              "      <td>0.0</td>\n",
              "      <td>0.0</td>\n",
              "      <td>1.0</td>\n",
              "      <td>0.0</td>\n",
              "      <td>0.0</td>\n",
              "      <td>1.0</td>\n",
              "      <td>0.0</td>\n",
              "      <td>1.0</td>\n",
              "      <td>0.0</td>\n",
              "      <td>0.0</td>\n",
              "      <td>...</td>\n",
              "      <td>3</td>\n",
              "      <td>1</td>\n",
              "      <td>0</td>\n",
              "      <td>8</td>\n",
              "      <td>0</td>\n",
              "      <td>1</td>\n",
              "      <td>6</td>\n",
              "      <td>4</td>\n",
              "      <td>0</td>\n",
              "      <td>5</td>\n",
              "    </tr>\n",
              "  </tbody>\n",
              "</table>\n",
              "<p>1 rows × 50 columns</p>\n",
              "</div>\n",
              "      <button class=\"colab-df-convert\" onclick=\"convertToInteractive('df-a402cae0-eefb-4a8e-aaec-baa69069a58f')\"\n",
              "              title=\"Convert this dataframe to an interactive table.\"\n",
              "              style=\"display:none;\">\n",
              "        \n",
              "  <svg xmlns=\"http://www.w3.org/2000/svg\" height=\"24px\"viewBox=\"0 0 24 24\"\n",
              "       width=\"24px\">\n",
              "    <path d=\"M0 0h24v24H0V0z\" fill=\"none\"/>\n",
              "    <path d=\"M18.56 5.44l.94 2.06.94-2.06 2.06-.94-2.06-.94-.94-2.06-.94 2.06-2.06.94zm-11 1L8.5 8.5l.94-2.06 2.06-.94-2.06-.94L8.5 2.5l-.94 2.06-2.06.94zm10 10l.94 2.06.94-2.06 2.06-.94-2.06-.94-.94-2.06-.94 2.06-2.06.94z\"/><path d=\"M17.41 7.96l-1.37-1.37c-.4-.4-.92-.59-1.43-.59-.52 0-1.04.2-1.43.59L10.3 9.45l-7.72 7.72c-.78.78-.78 2.05 0 2.83L4 21.41c.39.39.9.59 1.41.59.51 0 1.02-.2 1.41-.59l7.78-7.78 2.81-2.81c.8-.78.8-2.07 0-2.86zM5.41 20L4 18.59l7.72-7.72 1.47 1.35L5.41 20z\"/>\n",
              "  </svg>\n",
              "      </button>\n",
              "      \n",
              "  <style>\n",
              "    .colab-df-container {\n",
              "      display:flex;\n",
              "      flex-wrap:wrap;\n",
              "      gap: 12px;\n",
              "    }\n",
              "\n",
              "    .colab-df-convert {\n",
              "      background-color: #E8F0FE;\n",
              "      border: none;\n",
              "      border-radius: 50%;\n",
              "      cursor: pointer;\n",
              "      display: none;\n",
              "      fill: #1967D2;\n",
              "      height: 32px;\n",
              "      padding: 0 0 0 0;\n",
              "      width: 32px;\n",
              "    }\n",
              "\n",
              "    .colab-df-convert:hover {\n",
              "      background-color: #E2EBFA;\n",
              "      box-shadow: 0px 1px 2px rgba(60, 64, 67, 0.3), 0px 1px 3px 1px rgba(60, 64, 67, 0.15);\n",
              "      fill: #174EA6;\n",
              "    }\n",
              "\n",
              "    [theme=dark] .colab-df-convert {\n",
              "      background-color: #3B4455;\n",
              "      fill: #D2E3FC;\n",
              "    }\n",
              "\n",
              "    [theme=dark] .colab-df-convert:hover {\n",
              "      background-color: #434B5C;\n",
              "      box-shadow: 0px 1px 3px 1px rgba(0, 0, 0, 0.15);\n",
              "      filter: drop-shadow(0px 1px 2px rgba(0, 0, 0, 0.3));\n",
              "      fill: #FFFFFF;\n",
              "    }\n",
              "  </style>\n",
              "\n",
              "      <script>\n",
              "        const buttonEl =\n",
              "          document.querySelector('#df-a402cae0-eefb-4a8e-aaec-baa69069a58f button.colab-df-convert');\n",
              "        buttonEl.style.display =\n",
              "          google.colab.kernel.accessAllowed ? 'block' : 'none';\n",
              "\n",
              "        async function convertToInteractive(key) {\n",
              "          const element = document.querySelector('#df-a402cae0-eefb-4a8e-aaec-baa69069a58f');\n",
              "          const dataTable =\n",
              "            await google.colab.kernel.invokeFunction('convertToInteractive',\n",
              "                                                     [key], {});\n",
              "          if (!dataTable) return;\n",
              "\n",
              "          const docLinkHtml = 'Like what you see? Visit the ' +\n",
              "            '<a target=\"_blank\" href=https://colab.research.google.com/notebooks/data_table.ipynb>data table notebook</a>'\n",
              "            + ' to learn more about interactive tables.';\n",
              "          element.innerHTML = '';\n",
              "          dataTable['output_type'] = 'display_data';\n",
              "          await google.colab.output.renderOutput(dataTable, element);\n",
              "          const docLink = document.createElement('div');\n",
              "          docLink.innerHTML = docLinkHtml;\n",
              "          element.appendChild(docLink);\n",
              "        }\n",
              "      </script>\n",
              "    </div>\n",
              "  </div>\n",
              "  "
            ],
            "text/plain": [
              "     0    1    2    3    4    5    6    7    8    9  ...  PerformanceRating  \\\n",
              "0  0.0  0.0  1.0  0.0  0.0  1.0  0.0  1.0  0.0  0.0  ...                  3   \n",
              "\n",
              "   RelationshipSatisfaction  StockOptionLevel  TotalWorkingYears  \\\n",
              "0                         1                 0                  8   \n",
              "\n",
              "   TrainingTimesLastYear  WorkLifeBalance  YearsAtCompany  YearsInCurrentRole  \\\n",
              "0                      0                1               6                   4   \n",
              "\n",
              "   YearsSinceLastPromotion  YearsWithCurrManager  \n",
              "0                        0                     5  \n",
              "\n",
              "[1 rows x 50 columns]"
            ]
          },
          "metadata": {},
          "execution_count": 100
        }
      ]
    },
    {
      "cell_type": "code",
      "source": [
        "\"\"\"normalizando os dados de teste\"\"\"\n",
        "\n",
        "X_novo = min_max.transform(X_all_novo) \n",
        "X_novo"
      ],
      "metadata": {
        "colab": {
          "base_uri": "https://localhost:8080/"
        },
        "id": "qnn5BzJgHpVT",
        "outputId": "f0204b22-3949-408e-ba7f-90115e818aaf"
      },
      "execution_count": 101,
      "outputs": [
        {
          "output_type": "stream",
          "name": "stderr",
          "text": [
            "/usr/local/lib/python3.7/dist-packages/sklearn/utils/validation.py:1692: FutureWarning: Feature names only support names that are all strings. Got feature names with dtypes: ['int', 'str']. An error will be raised in 1.2.\n",
            "  FutureWarning,\n"
          ]
        },
        {
          "output_type": "execute_result",
          "data": {
            "text/plain": [
              "array([[0.        , 0.        , 1.        , 0.        , 0.        ,\n",
              "        1.        , 0.        , 1.        , 0.        , 0.        ,\n",
              "        0.        , 0.        , 1.        , 0.        , 0.        ,\n",
              "        0.        , 0.        , 0.        , 0.        , 0.        ,\n",
              "        0.        , 1.        , 0.        , 0.        , 0.        ,\n",
              "        1.        , 0.54761905, 0.71581961, 0.        , 0.25      ,\n",
              "        0.33333333, 0.91428571, 0.66666667, 0.25      , 1.        ,\n",
              "        0.26245392, 0.6980526 , 0.88888889, 1.        , 0.        ,\n",
              "        0.        , 0.        , 0.        , 0.2       , 0.        ,\n",
              "        0.        , 0.15      , 0.22222222, 0.        , 0.29411765]])"
            ]
          },
          "metadata": {},
          "execution_count": 101
        }
      ]
    },
    {
      "cell_type": "code",
      "source": [
        "\"\"\"Chamando o modelo e prevendo o resultado\"\"\"\n",
        "\n",
        "model.predict(X_novo)"
      ],
      "metadata": {
        "colab": {
          "base_uri": "https://localhost:8080/"
        },
        "id": "VmUZ3wbTIEGa",
        "outputId": "4e129ab1-9905-42b4-8da2-3c89db19448a"
      },
      "execution_count": 102,
      "outputs": [
        {
          "output_type": "execute_result",
          "data": {
            "text/plain": [
              "array([1])"
            ]
          },
          "metadata": {},
          "execution_count": 102
        }
      ]
    },
    {
      "cell_type": "code",
      "source": [
        "\"\"\"Probabilidade dos resultados possíveis\"\"\"\n",
        "\n",
        "model.predict_proba(X_novo)"
      ],
      "metadata": {
        "colab": {
          "base_uri": "https://localhost:8080/"
        },
        "id": "bKeq8zaRIXq4",
        "outputId": "4a871f0a-6a7b-4785-d676-a295ce6fa991"
      },
      "execution_count": 103,
      "outputs": [
        {
          "output_type": "execute_result",
          "data": {
            "text/plain": [
              "array([[0.33686339, 0.66313661]])"
            ]
          },
          "metadata": {},
          "execution_count": 103
        }
      ]
    },
    {
      "cell_type": "code",
      "source": [
        "\"\"\"Indicação dos indices da classe de model\"\"\"\n",
        "\n",
        "model.classes_"
      ],
      "metadata": {
        "colab": {
          "base_uri": "https://localhost:8080/"
        },
        "id": "iJePwjaII5ie",
        "outputId": "ae36373c-1066-4d2f-9796-e51a7a52287a"
      },
      "execution_count": 104,
      "outputs": [
        {
          "output_type": "execute_result",
          "data": {
            "text/plain": [
              "array([0, 1])"
            ]
          },
          "metadata": {},
          "execution_count": 104
        }
      ]
    }
  ]
}