{
  "nbformat": 4,
  "nbformat_minor": 0,
  "metadata": {
    "colab": {
      "name": "Departamento_Recursos_Humanos.ipynb",
      "provenance": [],
      "collapsed_sections": [
        "IuqiilKhJNye"
      ],
      "mount_file_id": "1oBnwH-JQDwP-D-TggS5U5b7ACMlsOns0",
      "authorship_tag": "ABX9TyN/51vk9A4njDOOrDFRe6Ux",
      "include_colab_link": true
    },
    "kernelspec": {
      "name": "python3",
      "display_name": "Python 3"
    },
    "language_info": {
      "name": "python"
    }
  },
  "cells": [
    {
      "cell_type": "markdown",
      "metadata": {
        "id": "view-in-github",
        "colab_type": "text"
      },
      "source": [
        "<a href=\"https://colab.research.google.com/github/AlexLeop/ML_Recursos_Humanos/blob/main/Departamento_Recursos_Humanos.ipynb\" target=\"_parent\"><img src=\"https://colab.research.google.com/assets/colab-badge.svg\" alt=\"Open In Colab\"/></a>"
      ]
    },
    {
      "cell_type": "markdown",
      "source": [
        "# **Departamento de Recursos Humanos**"
      ],
      "metadata": {
        "id": "h9_tsc8nE9EK"
      }
    },
    {
      "cell_type": "markdown",
      "source": [
        "###**Base de dados:**\n",
        "*   https://www.kaggle.com/pavansubhasht/ibm-hr-analitics-attrition-dataset\n",
        "\n",
        "#####**Calcúlo de Salário:**\n",
        "*   https://www.mom.gov.sg/employment-practices/salary/monthly-and-daily-salary e\n",
        "*   https://www.sprout.zendesk.com/hc/en-us/articles/360030922133/How-to-Calculate-for-the-Daily-Rate-from-Your-Monthly-Salary\n",
        "\n",
        "#####**Stock:**\n",
        "*   https://www.moneyunder30.com/employee-stock-options#:~:text=Typically%20they%20are%20granted%20to.a%20especific%20period%20of%20time\n",
        "\n"
      ],
      "metadata": {
        "id": "5x4rLKp2FQ5C"
      }
    },
    {
      "cell_type": "code",
      "execution_count": 1,
      "metadata": {
        "id": "UTzlFysE9JKw"
      },
      "outputs": [],
      "source": [
        "\"\"\"Importando as bibliotecas necessárias\"\"\"\n",
        "import pandas as pd\n",
        "import numpy as np\n",
        "import matplotlib.pyplot as plt\n",
        "%matplotlib inline\n",
        "import seaborn as sns"
      ]
    },
    {
      "cell_type": "code",
      "source": [
        "trabalhador_df = pd.read_csv('./Human_Resources.csv')"
      ],
      "metadata": {
        "id": "RxWyyiTsI8ZI"
      },
      "execution_count": 2,
      "outputs": []
    },
    {
      "cell_type": "markdown",
      "source": [
        "### **Transformação e Análize Exploratória de dados**"
      ],
      "metadata": {
        "id": "LF5w7lENJA69"
      }
    },
    {
      "cell_type": "code",
      "source": [
        "class recursos_humsnos:\n",
        "    def __init__(self, dados) -> None:\n",
        "        self.dados = dados\n",
        "\n",
        "    def Verifia_dados_nulos(self):\n",
        "        \"\"\" Verificando se há dados núlos através de um grafico de mapa de calor na base de dados \"\"\"\n",
        "        mapa_calor = sns.heatmap(self.dados.isnull(), cbar=None);\n",
        "        return mapa_calor\n",
        "\n",
        "    def verifica_distribuicao_f(self):\n",
        "        \"\"\" Criando um gráfico para análise da distribuição de todas as colunas do Dataset \"\"\"\n",
        "        dist_f = self.dados.hist(bins=30, figsize=(20,20), color='r');\n",
        "        return dist_f\n",
        "\n",
        "    def verifica_correlacao(self):\n",
        "        \"\"\"Criando correlação entre colunas do Dataset\"\"\"\n",
        "        correlacao = self.dados.corr()\n",
        "\n",
        "        \"\"\"Criando gráfico Heatmap\"\"\"\n",
        "        f, ax = plt.subplots(figsize=(28,15))\n",
        "        return sns.heatmap(correlacao, annot=True);\n",
        "    \n",
        "    def transformar_dados(self):\n",
        "        \"\"\"Modificando a coluna [Attrition, Over18, OverTime] de (Yes or No) para (1 ou 0) utilizando a função lambda\"\"\"\n",
        "        self.dados['Attrition'] = self.dados['Attrition'].apply(lambda x: 1 if x == 'Yes' else 0)\n",
        "        self.dados['Over18']    = self.dados['Over18'].apply(lambda x: 1 if x == 'Yes' else 0)\n",
        "        self.dados['OverTime']  = self.dados['OverTime'].apply(lambda x: 1 if x == 'Yes' else 0)\n",
        "\n",
        "        \"\"\" Removendo as colunas de valor único \"\"\"\n",
        "        trabalhador_df.drop(['EmployeeCount', 'StandardHours','Over18', 'EmployeeNumber'], axis=1, inplace=True)\n",
        "        return self.dados\n",
        "\n"
      ],
      "metadata": {
        "id": "GrCQ6S6dB1Ra"
      },
      "execution_count": 3,
      "outputs": []
    },
    {
      "cell_type": "code",
      "source": [
        "rh = recursos_humsnos(trabalhador_df)\n",
        "dado_novo = rh.transformar_dados()"
      ],
      "metadata": {
        "id": "HChu2OR4OoLE"
      },
      "execution_count": 4,
      "outputs": []
    },
    {
      "cell_type": "code",
      "source": [
        "\"\"\" Verificando a quantidade de linhas e colunas da base de dados \"\"\"\n",
        "dado_novo"
      ],
      "metadata": {
        "id": "EPksY7W8XZDs",
        "colab": {
          "base_uri": "https://localhost:8080/",
          "height": 627
        },
        "outputId": "214afbe4-f019-4758-dd65-5f496cabc9b6"
      },
      "execution_count": 5,
      "outputs": [
        {
          "output_type": "execute_result",
          "data": {
            "text/html": [
              "\n",
              "  <div id=\"df-d9f73c61-ffca-4980-ba0f-987597b97832\">\n",
              "    <div class=\"colab-df-container\">\n",
              "      <div>\n",
              "<style scoped>\n",
              "    .dataframe tbody tr th:only-of-type {\n",
              "        vertical-align: middle;\n",
              "    }\n",
              "\n",
              "    .dataframe tbody tr th {\n",
              "        vertical-align: top;\n",
              "    }\n",
              "\n",
              "    .dataframe thead th {\n",
              "        text-align: right;\n",
              "    }\n",
              "</style>\n",
              "<table border=\"1\" class=\"dataframe\">\n",
              "  <thead>\n",
              "    <tr style=\"text-align: right;\">\n",
              "      <th></th>\n",
              "      <th>Age</th>\n",
              "      <th>Attrition</th>\n",
              "      <th>BusinessTravel</th>\n",
              "      <th>DailyRate</th>\n",
              "      <th>Department</th>\n",
              "      <th>DistanceFromHome</th>\n",
              "      <th>Education</th>\n",
              "      <th>EducationField</th>\n",
              "      <th>EnvironmentSatisfaction</th>\n",
              "      <th>Gender</th>\n",
              "      <th>...</th>\n",
              "      <th>PerformanceRating</th>\n",
              "      <th>RelationshipSatisfaction</th>\n",
              "      <th>StockOptionLevel</th>\n",
              "      <th>TotalWorkingYears</th>\n",
              "      <th>TrainingTimesLastYear</th>\n",
              "      <th>WorkLifeBalance</th>\n",
              "      <th>YearsAtCompany</th>\n",
              "      <th>YearsInCurrentRole</th>\n",
              "      <th>YearsSinceLastPromotion</th>\n",
              "      <th>YearsWithCurrManager</th>\n",
              "    </tr>\n",
              "  </thead>\n",
              "  <tbody>\n",
              "    <tr>\n",
              "      <th>0</th>\n",
              "      <td>41</td>\n",
              "      <td>1</td>\n",
              "      <td>Travel_Rarely</td>\n",
              "      <td>1102</td>\n",
              "      <td>Sales</td>\n",
              "      <td>1</td>\n",
              "      <td>2</td>\n",
              "      <td>Life Sciences</td>\n",
              "      <td>2</td>\n",
              "      <td>Female</td>\n",
              "      <td>...</td>\n",
              "      <td>3</td>\n",
              "      <td>1</td>\n",
              "      <td>0</td>\n",
              "      <td>8</td>\n",
              "      <td>0</td>\n",
              "      <td>1</td>\n",
              "      <td>6</td>\n",
              "      <td>4</td>\n",
              "      <td>0</td>\n",
              "      <td>5</td>\n",
              "    </tr>\n",
              "    <tr>\n",
              "      <th>1</th>\n",
              "      <td>49</td>\n",
              "      <td>0</td>\n",
              "      <td>Travel_Frequently</td>\n",
              "      <td>279</td>\n",
              "      <td>Research &amp; Development</td>\n",
              "      <td>8</td>\n",
              "      <td>1</td>\n",
              "      <td>Life Sciences</td>\n",
              "      <td>3</td>\n",
              "      <td>Male</td>\n",
              "      <td>...</td>\n",
              "      <td>4</td>\n",
              "      <td>4</td>\n",
              "      <td>1</td>\n",
              "      <td>10</td>\n",
              "      <td>3</td>\n",
              "      <td>3</td>\n",
              "      <td>10</td>\n",
              "      <td>7</td>\n",
              "      <td>1</td>\n",
              "      <td>7</td>\n",
              "    </tr>\n",
              "    <tr>\n",
              "      <th>2</th>\n",
              "      <td>37</td>\n",
              "      <td>1</td>\n",
              "      <td>Travel_Rarely</td>\n",
              "      <td>1373</td>\n",
              "      <td>Research &amp; Development</td>\n",
              "      <td>2</td>\n",
              "      <td>2</td>\n",
              "      <td>Other</td>\n",
              "      <td>4</td>\n",
              "      <td>Male</td>\n",
              "      <td>...</td>\n",
              "      <td>3</td>\n",
              "      <td>2</td>\n",
              "      <td>0</td>\n",
              "      <td>7</td>\n",
              "      <td>3</td>\n",
              "      <td>3</td>\n",
              "      <td>0</td>\n",
              "      <td>0</td>\n",
              "      <td>0</td>\n",
              "      <td>0</td>\n",
              "    </tr>\n",
              "    <tr>\n",
              "      <th>3</th>\n",
              "      <td>33</td>\n",
              "      <td>0</td>\n",
              "      <td>Travel_Frequently</td>\n",
              "      <td>1392</td>\n",
              "      <td>Research &amp; Development</td>\n",
              "      <td>3</td>\n",
              "      <td>4</td>\n",
              "      <td>Life Sciences</td>\n",
              "      <td>4</td>\n",
              "      <td>Female</td>\n",
              "      <td>...</td>\n",
              "      <td>3</td>\n",
              "      <td>3</td>\n",
              "      <td>0</td>\n",
              "      <td>8</td>\n",
              "      <td>3</td>\n",
              "      <td>3</td>\n",
              "      <td>8</td>\n",
              "      <td>7</td>\n",
              "      <td>3</td>\n",
              "      <td>0</td>\n",
              "    </tr>\n",
              "    <tr>\n",
              "      <th>4</th>\n",
              "      <td>27</td>\n",
              "      <td>0</td>\n",
              "      <td>Travel_Rarely</td>\n",
              "      <td>591</td>\n",
              "      <td>Research &amp; Development</td>\n",
              "      <td>2</td>\n",
              "      <td>1</td>\n",
              "      <td>Medical</td>\n",
              "      <td>1</td>\n",
              "      <td>Male</td>\n",
              "      <td>...</td>\n",
              "      <td>3</td>\n",
              "      <td>4</td>\n",
              "      <td>1</td>\n",
              "      <td>6</td>\n",
              "      <td>3</td>\n",
              "      <td>3</td>\n",
              "      <td>2</td>\n",
              "      <td>2</td>\n",
              "      <td>2</td>\n",
              "      <td>2</td>\n",
              "    </tr>\n",
              "    <tr>\n",
              "      <th>...</th>\n",
              "      <td>...</td>\n",
              "      <td>...</td>\n",
              "      <td>...</td>\n",
              "      <td>...</td>\n",
              "      <td>...</td>\n",
              "      <td>...</td>\n",
              "      <td>...</td>\n",
              "      <td>...</td>\n",
              "      <td>...</td>\n",
              "      <td>...</td>\n",
              "      <td>...</td>\n",
              "      <td>...</td>\n",
              "      <td>...</td>\n",
              "      <td>...</td>\n",
              "      <td>...</td>\n",
              "      <td>...</td>\n",
              "      <td>...</td>\n",
              "      <td>...</td>\n",
              "      <td>...</td>\n",
              "      <td>...</td>\n",
              "      <td>...</td>\n",
              "    </tr>\n",
              "    <tr>\n",
              "      <th>1465</th>\n",
              "      <td>36</td>\n",
              "      <td>0</td>\n",
              "      <td>Travel_Frequently</td>\n",
              "      <td>884</td>\n",
              "      <td>Research &amp; Development</td>\n",
              "      <td>23</td>\n",
              "      <td>2</td>\n",
              "      <td>Medical</td>\n",
              "      <td>3</td>\n",
              "      <td>Male</td>\n",
              "      <td>...</td>\n",
              "      <td>3</td>\n",
              "      <td>3</td>\n",
              "      <td>1</td>\n",
              "      <td>17</td>\n",
              "      <td>3</td>\n",
              "      <td>3</td>\n",
              "      <td>5</td>\n",
              "      <td>2</td>\n",
              "      <td>0</td>\n",
              "      <td>3</td>\n",
              "    </tr>\n",
              "    <tr>\n",
              "      <th>1466</th>\n",
              "      <td>39</td>\n",
              "      <td>0</td>\n",
              "      <td>Travel_Rarely</td>\n",
              "      <td>613</td>\n",
              "      <td>Research &amp; Development</td>\n",
              "      <td>6</td>\n",
              "      <td>1</td>\n",
              "      <td>Medical</td>\n",
              "      <td>4</td>\n",
              "      <td>Male</td>\n",
              "      <td>...</td>\n",
              "      <td>3</td>\n",
              "      <td>1</td>\n",
              "      <td>1</td>\n",
              "      <td>9</td>\n",
              "      <td>5</td>\n",
              "      <td>3</td>\n",
              "      <td>7</td>\n",
              "      <td>7</td>\n",
              "      <td>1</td>\n",
              "      <td>7</td>\n",
              "    </tr>\n",
              "    <tr>\n",
              "      <th>1467</th>\n",
              "      <td>27</td>\n",
              "      <td>0</td>\n",
              "      <td>Travel_Rarely</td>\n",
              "      <td>155</td>\n",
              "      <td>Research &amp; Development</td>\n",
              "      <td>4</td>\n",
              "      <td>3</td>\n",
              "      <td>Life Sciences</td>\n",
              "      <td>2</td>\n",
              "      <td>Male</td>\n",
              "      <td>...</td>\n",
              "      <td>4</td>\n",
              "      <td>2</td>\n",
              "      <td>1</td>\n",
              "      <td>6</td>\n",
              "      <td>0</td>\n",
              "      <td>3</td>\n",
              "      <td>6</td>\n",
              "      <td>2</td>\n",
              "      <td>0</td>\n",
              "      <td>3</td>\n",
              "    </tr>\n",
              "    <tr>\n",
              "      <th>1468</th>\n",
              "      <td>49</td>\n",
              "      <td>0</td>\n",
              "      <td>Travel_Frequently</td>\n",
              "      <td>1023</td>\n",
              "      <td>Sales</td>\n",
              "      <td>2</td>\n",
              "      <td>3</td>\n",
              "      <td>Medical</td>\n",
              "      <td>4</td>\n",
              "      <td>Male</td>\n",
              "      <td>...</td>\n",
              "      <td>3</td>\n",
              "      <td>4</td>\n",
              "      <td>0</td>\n",
              "      <td>17</td>\n",
              "      <td>3</td>\n",
              "      <td>2</td>\n",
              "      <td>9</td>\n",
              "      <td>6</td>\n",
              "      <td>0</td>\n",
              "      <td>8</td>\n",
              "    </tr>\n",
              "    <tr>\n",
              "      <th>1469</th>\n",
              "      <td>34</td>\n",
              "      <td>0</td>\n",
              "      <td>Travel_Rarely</td>\n",
              "      <td>628</td>\n",
              "      <td>Research &amp; Development</td>\n",
              "      <td>8</td>\n",
              "      <td>3</td>\n",
              "      <td>Medical</td>\n",
              "      <td>2</td>\n",
              "      <td>Male</td>\n",
              "      <td>...</td>\n",
              "      <td>3</td>\n",
              "      <td>1</td>\n",
              "      <td>0</td>\n",
              "      <td>6</td>\n",
              "      <td>3</td>\n",
              "      <td>4</td>\n",
              "      <td>4</td>\n",
              "      <td>3</td>\n",
              "      <td>1</td>\n",
              "      <td>2</td>\n",
              "    </tr>\n",
              "  </tbody>\n",
              "</table>\n",
              "<p>1470 rows × 31 columns</p>\n",
              "</div>\n",
              "      <button class=\"colab-df-convert\" onclick=\"convertToInteractive('df-d9f73c61-ffca-4980-ba0f-987597b97832')\"\n",
              "              title=\"Convert this dataframe to an interactive table.\"\n",
              "              style=\"display:none;\">\n",
              "        \n",
              "  <svg xmlns=\"http://www.w3.org/2000/svg\" height=\"24px\"viewBox=\"0 0 24 24\"\n",
              "       width=\"24px\">\n",
              "    <path d=\"M0 0h24v24H0V0z\" fill=\"none\"/>\n",
              "    <path d=\"M18.56 5.44l.94 2.06.94-2.06 2.06-.94-2.06-.94-.94-2.06-.94 2.06-2.06.94zm-11 1L8.5 8.5l.94-2.06 2.06-.94-2.06-.94L8.5 2.5l-.94 2.06-2.06.94zm10 10l.94 2.06.94-2.06 2.06-.94-2.06-.94-.94-2.06-.94 2.06-2.06.94z\"/><path d=\"M17.41 7.96l-1.37-1.37c-.4-.4-.92-.59-1.43-.59-.52 0-1.04.2-1.43.59L10.3 9.45l-7.72 7.72c-.78.78-.78 2.05 0 2.83L4 21.41c.39.39.9.59 1.41.59.51 0 1.02-.2 1.41-.59l7.78-7.78 2.81-2.81c.8-.78.8-2.07 0-2.86zM5.41 20L4 18.59l7.72-7.72 1.47 1.35L5.41 20z\"/>\n",
              "  </svg>\n",
              "      </button>\n",
              "      \n",
              "  <style>\n",
              "    .colab-df-container {\n",
              "      display:flex;\n",
              "      flex-wrap:wrap;\n",
              "      gap: 12px;\n",
              "    }\n",
              "\n",
              "    .colab-df-convert {\n",
              "      background-color: #E8F0FE;\n",
              "      border: none;\n",
              "      border-radius: 50%;\n",
              "      cursor: pointer;\n",
              "      display: none;\n",
              "      fill: #1967D2;\n",
              "      height: 32px;\n",
              "      padding: 0 0 0 0;\n",
              "      width: 32px;\n",
              "    }\n",
              "\n",
              "    .colab-df-convert:hover {\n",
              "      background-color: #E2EBFA;\n",
              "      box-shadow: 0px 1px 2px rgba(60, 64, 67, 0.3), 0px 1px 3px 1px rgba(60, 64, 67, 0.15);\n",
              "      fill: #174EA6;\n",
              "    }\n",
              "\n",
              "    [theme=dark] .colab-df-convert {\n",
              "      background-color: #3B4455;\n",
              "      fill: #D2E3FC;\n",
              "    }\n",
              "\n",
              "    [theme=dark] .colab-df-convert:hover {\n",
              "      background-color: #434B5C;\n",
              "      box-shadow: 0px 1px 3px 1px rgba(0, 0, 0, 0.15);\n",
              "      filter: drop-shadow(0px 1px 2px rgba(0, 0, 0, 0.3));\n",
              "      fill: #FFFFFF;\n",
              "    }\n",
              "  </style>\n",
              "\n",
              "      <script>\n",
              "        const buttonEl =\n",
              "          document.querySelector('#df-d9f73c61-ffca-4980-ba0f-987597b97832 button.colab-df-convert');\n",
              "        buttonEl.style.display =\n",
              "          google.colab.kernel.accessAllowed ? 'block' : 'none';\n",
              "\n",
              "        async function convertToInteractive(key) {\n",
              "          const element = document.querySelector('#df-d9f73c61-ffca-4980-ba0f-987597b97832');\n",
              "          const dataTable =\n",
              "            await google.colab.kernel.invokeFunction('convertToInteractive',\n",
              "                                                     [key], {});\n",
              "          if (!dataTable) return;\n",
              "\n",
              "          const docLinkHtml = 'Like what you see? Visit the ' +\n",
              "            '<a target=\"_blank\" href=https://colab.research.google.com/notebooks/data_table.ipynb>data table notebook</a>'\n",
              "            + ' to learn more about interactive tables.';\n",
              "          element.innerHTML = '';\n",
              "          dataTable['output_type'] = 'display_data';\n",
              "          await google.colab.output.renderOutput(dataTable, element);\n",
              "          const docLink = document.createElement('div');\n",
              "          docLink.innerHTML = docLinkHtml;\n",
              "          element.appendChild(docLink);\n",
              "        }\n",
              "      </script>\n",
              "    </div>\n",
              "  </div>\n",
              "  "
            ],
            "text/plain": [
              "      Age  Attrition     BusinessTravel  DailyRate              Department  \\\n",
              "0      41          1      Travel_Rarely       1102                   Sales   \n",
              "1      49          0  Travel_Frequently        279  Research & Development   \n",
              "2      37          1      Travel_Rarely       1373  Research & Development   \n",
              "3      33          0  Travel_Frequently       1392  Research & Development   \n",
              "4      27          0      Travel_Rarely        591  Research & Development   \n",
              "...   ...        ...                ...        ...                     ...   \n",
              "1465   36          0  Travel_Frequently        884  Research & Development   \n",
              "1466   39          0      Travel_Rarely        613  Research & Development   \n",
              "1467   27          0      Travel_Rarely        155  Research & Development   \n",
              "1468   49          0  Travel_Frequently       1023                   Sales   \n",
              "1469   34          0      Travel_Rarely        628  Research & Development   \n",
              "\n",
              "      DistanceFromHome  Education EducationField  EnvironmentSatisfaction  \\\n",
              "0                    1          2  Life Sciences                        2   \n",
              "1                    8          1  Life Sciences                        3   \n",
              "2                    2          2          Other                        4   \n",
              "3                    3          4  Life Sciences                        4   \n",
              "4                    2          1        Medical                        1   \n",
              "...                ...        ...            ...                      ...   \n",
              "1465                23          2        Medical                        3   \n",
              "1466                 6          1        Medical                        4   \n",
              "1467                 4          3  Life Sciences                        2   \n",
              "1468                 2          3        Medical                        4   \n",
              "1469                 8          3        Medical                        2   \n",
              "\n",
              "      Gender  ...  PerformanceRating  RelationshipSatisfaction  \\\n",
              "0     Female  ...                  3                         1   \n",
              "1       Male  ...                  4                         4   \n",
              "2       Male  ...                  3                         2   \n",
              "3     Female  ...                  3                         3   \n",
              "4       Male  ...                  3                         4   \n",
              "...      ...  ...                ...                       ...   \n",
              "1465    Male  ...                  3                         3   \n",
              "1466    Male  ...                  3                         1   \n",
              "1467    Male  ...                  4                         2   \n",
              "1468    Male  ...                  3                         4   \n",
              "1469    Male  ...                  3                         1   \n",
              "\n",
              "      StockOptionLevel TotalWorkingYears  TrainingTimesLastYear  \\\n",
              "0                    0                 8                      0   \n",
              "1                    1                10                      3   \n",
              "2                    0                 7                      3   \n",
              "3                    0                 8                      3   \n",
              "4                    1                 6                      3   \n",
              "...                ...               ...                    ...   \n",
              "1465                 1                17                      3   \n",
              "1466                 1                 9                      5   \n",
              "1467                 1                 6                      0   \n",
              "1468                 0                17                      3   \n",
              "1469                 0                 6                      3   \n",
              "\n",
              "     WorkLifeBalance  YearsAtCompany  YearsInCurrentRole  \\\n",
              "0                  1               6                   4   \n",
              "1                  3              10                   7   \n",
              "2                  3               0                   0   \n",
              "3                  3               8                   7   \n",
              "4                  3               2                   2   \n",
              "...              ...             ...                 ...   \n",
              "1465               3               5                   2   \n",
              "1466               3               7                   7   \n",
              "1467               3               6                   2   \n",
              "1468               2               9                   6   \n",
              "1469               4               4                   3   \n",
              "\n",
              "      YearsSinceLastPromotion  YearsWithCurrManager  \n",
              "0                           0                     5  \n",
              "1                           1                     7  \n",
              "2                           0                     0  \n",
              "3                           3                     0  \n",
              "4                           2                     2  \n",
              "...                       ...                   ...  \n",
              "1465                        0                     3  \n",
              "1466                        1                     7  \n",
              "1467                        0                     3  \n",
              "1468                        0                     8  \n",
              "1469                        1                     2  \n",
              "\n",
              "[1470 rows x 31 columns]"
            ]
          },
          "metadata": {},
          "execution_count": 5
        }
      ]
    },
    {
      "cell_type": "markdown",
      "source": [
        "### Descrição Estatística dos SubDataFramers"
      ],
      "metadata": {
        "id": "XhR66gahkNrR"
      }
    },
    {
      "cell_type": "code",
      "source": [
        "sairam_df     = dado_novo[dado_novo['Attrition']==1]\n",
        "continua_df   = dado_novo[dado_novo['Attrition']==0]\n",
        "\n",
        "print('TOTAL DE FUNCIONÁRIOS SÃO: ', len(dado_novo))\n",
        "\n",
        "\n",
        "\n",
        "\"\"\" Descrição estatística dos funcionários que ficaram \"\"\"\n",
        "\n",
        "continua_df.describe() # Descrição das pessoas que ficaram\n",
        "print('\\n\\n  FUNCIONÁRIOS QUE FICARAM:')\n",
        "print('----------------------------------------------------------------')\n",
        "print('     Média de idade                                   : {:.0f} anos'.format(continua_df['Age'].mean()))\n",
        "print('     Média de salárial                                : ${:.2f}'.format(continua_df['DailyRate'].mean()))\n",
        "print('\\n       Total de funcionários que continuam é {} equivalente \\n       a {:.2f} % do total.'.format(len(continua_df), (len(continua_df)/len(dado_novo))*100))\n",
        "\n",
        "\n",
        "\"\"\" Descrição estatística dos funcionários que sairam \"\"\"\n",
        "\n",
        "sairam_df.describe() # Descrição das pessoas que saíram\n",
        "print('\\n\\n  FUNCIONÁRIOS QUE SAIRAM:')\n",
        "print('----------------------------------------------------------------')\n",
        "print('     Média de idade                                  : {:.0f} anos'.format(sairam_df['Age'].mean()))\n",
        "print('     Média de salárial                               : ${:.2f}'.format(sairam_df['DailyRate'].mean()))\n",
        "print('\\n       Total de funcionários que saíram foi {} equivalente \\n       a {:.2f} % do total.'.format(len(sairam_df), (len(sairam_df)/len(dado_novo))*100))"
      ],
      "metadata": {
        "id": "pGSUMQSKjF9j"
      },
      "execution_count": null,
      "outputs": []
    },
    {
      "cell_type": "markdown",
      "source": [
        "Gráficos de contagem\n",
        "\n",
        "*   O objetivo é realizar uma análize comparativa quantitativa dos funcionários que saíram da Empresa por :\n",
        "---\n",
        "- IDADE;\n",
        "- FUNÇÃO;\n",
        "- ESTADO CIVÍL;\n",
        "- ENVOLVIMENTO NO TRABALHO e\n",
        "- NÍVEL DE EMPREGO."
      ],
      "metadata": {
        "id": "jp2dRbF-M7Gi"
      }
    },
    {
      "cell_type": "code",
      "source": [
        "plt.figure(figsize=(20,20))\n",
        "plt.subplots(411)\n",
        "sns.countplot(x='Age', hue='Attrition', data = dado_novo) # IDADE\n",
        "\n",
        "plt.subplots(412)\n",
        "sns.countplot(x='JobRole', hue='Attrition', data = dado_novo) # FUNÇÃO\n",
        "\n",
        "plt.subplots(413)\n",
        "sns.countplot(x='MaritalStatus', hue='Attrition', data = dado_novo) # ESTADO CIVÍL\n",
        "\n",
        "plt.subplots(414)\n",
        "sns.countplot(x='JobInvolvement', hue='Attrition', data = dado_novo) # ENVOLVIMENTO NO TRABALHO\n",
        "\n",
        "plt.subplots(415)\n",
        "sns.countplot(x='JobLevel', hue='Attrition', data = dado_novo); # NÍVEL DE EMPREGO"
      ],
      "metadata": {
        "id": "q4mOFQ3QRZJ8"
      },
      "execution_count": null,
      "outputs": []
    },
    {
      "cell_type": "code",
      "source": [
        "plt.figure(figsize=(15,10))\n",
        "sns.boxplot(x='MonthlyIncome', y='JobRole', data=dado_novo);"
      ],
      "metadata": {
        "id": "PQeIgfUlgZ9G"
      },
      "execution_count": null,
      "outputs": []
    },
    {
      "cell_type": "markdown",
      "source": [
        "###**Pré-processamento e bases de Treinamento / Teste**"
      ],
      "metadata": {
        "id": "W9FK83sFjzPf"
      }
    },
    {
      "cell_type": "code",
      "source": [
        "\"\"\" Importando as bibliotecas necessárias \"\"\"\n",
        "from sklearn.preprocessing import OneHotEncoder\n",
        "from sklearn.preprocessing import MinMaxScaler\n",
        "from sklearn.model_selection import train_test_split\n",
        "from typing import Type\n",
        "\n",
        "class preprocessamento:\n",
        "    def __init__(self, dados_base) -> None:\n",
        "        self.data = dados_base\n",
        "\n",
        "    def separar_numericos(self):\n",
        "        \"\"\" Isolando todos os atributos númericos do Dataset [self.data] e atribuido à variavel [X_numericos] \"\"\"\n",
        "        X_numericos = self.data.select_dtypes(include=['int64'])\n",
        "        X_numericos.drop(['Attrition'], axis=1, inplace=True) # Removendo a coluna Attrition do Dataset [X_numericos]\n",
        "\n",
        "        return X_numericos\n",
        "\n",
        "    def separar_categoricos(self):\n",
        "        \"\"\"Isolando os atributos categóricos para um Dataset atribuido à variavel X_cat\"\"\"\n",
        "        X_cat = self.data[['BusinessTravel', 'Department', 'EducationField', 'Gender', 'JobRole', 'MaritalStatus']]\n",
        "\n",
        "        return X_cat\n",
        "\n",
        "    def aplicar_dammy(self, X_cat):\n",
        "        \"\"\" \n",
        "        Gerando variáves Dammy (variable dummy) para a transformação do Dataset X_cat \n",
        "        atravéis da função OneHotEncoder do ScikitLearn e modificando o Dataset para um Array\n",
        "        \"\"\"\n",
        "        onehotencoder = OneHotEncoder() # Instanciando a função OneHotEncoder\n",
        "        X_cat = onehotencoder.fit_transform(X_cat).toarray() # Transformando a variavel X_cat em um Array de variaveis Dammy\n",
        "        X_cat = pd.DataFrame(X_cat) # Convetendo o Dataset X_cat novamente para um DataFrame\n",
        "\n",
        "        return X_cat\n",
        "\n",
        "    def unir_dataset(self, X_cat, X_numericos):\n",
        "        \"\"\"Concatenando os Dataset X_cat e X_numericos\"\"\"\n",
        "        X_all = pd.concat([X_cat, X_numericos], axis=1)\n",
        "\n",
        "        return X_all\n",
        "\n",
        "    def normalizando_data(self, X_all):\n",
        "        # Aplicando a normalização do Dataset [X_all]\n",
        "        scaler = MinMaxScaler() # Instanciando MinMaxScaler\n",
        "        X = scaler.fit_transform(X_all) # Normalizando [X_all]\n",
        "\n",
        "        return X\n",
        "\n",
        "    def atributo_previsor(self):\n",
        "        # Definindo à variavel [y] os atributos previsores\n",
        "        y = self.data['Attrition']\n",
        "\n",
        "        return y\n",
        "\n",
        "    def definindo_testtreino(self, X, y):\n",
        "        # Declarando as variaveis [X e y] de Treino e Teste com cada variavel contendo 1/4 do Dataset  \n",
        "        X_train, X_test, y_train, y_test = train_test_split(X, y, test_size=0.25)\n",
        "\n",
        "        return X_train, y_train, X_test, y_test"
      ],
      "metadata": {
        "id": "HNEq-G1mmoqQ"
      },
      "execution_count": 7,
      "outputs": []
    },
    {
      "cell_type": "code",
      "source": [
        "rl = preprocessamento(dado_novo) # Instanciando a classe preprocessamento\n",
        "unind = rl.unir_dataset(rl.aplicar_dammy(rl.separar_categoricos()), rl.separar_numericos()) # Chamando o methodo unir_dataset da classe preprocessamento\n",
        "treinamento_ml = rl.definindo_testtreino(rl.normalizando_data(unind), rl.atributo_previsor())"
      ],
      "metadata": {
        "id": "iBVYs0xOuaih"
      },
      "execution_count": null,
      "outputs": []
    },
    {
      "cell_type": "code",
      "source": [
        "treinamento_ml\n"
      ],
      "metadata": {
        "id": "HfIUQEDzNJxT"
      },
      "execution_count": null,
      "outputs": []
    },
    {
      "cell_type": "markdown",
      "source": [
        "### **Modelo de Regressão Logística**"
      ],
      "metadata": {
        "id": "IuqiilKhJNye"
      }
    },
    {
      "cell_type": "code",
      "source": [
        "\"\"\" Importando bibliotecas necessárias aplicação da regressão logística\"\"\"\n",
        "from sklearn.linear_model import LogisticRegression\n",
        "import sklearn\n",
        "\n",
        "\"\"\" Importando bibliotecas necessárias para avaliação do modelo de regressão logística \"\"\"\n",
        "from sklearn.metrics import accuracy_score # Biblioteca para valiação a Acurácia\n",
        "from sklearn.metrics import precision_score # Biblioteca para avaliar a precisão\n",
        "from sklearn.metrics import recall_score # Biblioteca para avaliar o recall\n",
        "from sklearn.metrics import f1_score # Biblioteca para avaliar toda a base de dados\n",
        "from sklearn.metrics import classification_report # Biblioteca para reportar a classificação\n",
        "\n",
        "\"\"\" Importando biblioteca necessária para gerar a matriz de confusão deste modelo \"\"\"\n",
        "from sklearn.metrics import confusion_matrix\n",
        "\n",
        "\n",
        "class regressao_log:\n",
        "    def __init__(self, dadostrainotest) -> None:\n",
        "        self.dadostrainotest = dadostrainotest\n",
        "        self.X_train = dadostrainotest[0]\n",
        "        self.y_train = dadostrainotest[1]\n",
        "        self.X_test =  dadostrainotest[2]\n",
        "        self.y_test =  dadostrainotest[3]\n",
        "\n",
        "    def treinar_ModeloRegressao(self):\n",
        "        Mod_logistico = LogisticRegression() # Instanciando a classe LogisticRegression\n",
        "        Mod_logistico.fit(self.X_train, self.y_train) # Treinando o modelo\n",
        "        return Mod_logistico\n",
        "\n",
        "    def definindo_preditor_regressivo(self, Mod_logistico):\n",
        "        y_pred = Mod_logistico.predict(self.X_test) # Criando variavel de predição\n",
        "        return y_pred\n"
      ],
      "metadata": {
        "id": "Z-LMb1cPvXMS"
      },
      "execution_count": 10,
      "outputs": []
    },
    {
      "cell_type": "code",
      "source": [
        "Mod_RL = regressao_log(treinamento_ml) # Instanciando o modelo de regressão logística passando dados pre-processados\n",
        "treinar = Mod_RL.definindo_preditor_regressivo(Mod_RL.treinar_ModeloRegressao()) # trainando o modelo"
      ],
      "metadata": {
        "id": "XKPmh-jrvyWW"
      },
      "execution_count": 11,
      "outputs": []
    },
    {
      "cell_type": "code",
      "source": [
        "treinar"
      ],
      "metadata": {
        "id": "EjSOWgLBWHUn"
      },
      "execution_count": null,
      "outputs": []
    },
    {
      "cell_type": "markdown",
      "source": [
        "### **Avaliação do Modelo - KPIs**"
      ],
      "metadata": {
        "id": "uMVqIMwtxfAv"
      }
    },
    {
      "cell_type": "code",
      "source": [
        "class metricaseavaliacoes:\n",
        "    \"\"\" Classe responsável pela avaliação do modelo de Regressão Logística \"\"\"\n",
        "    def __init__(self, valortest , preditor) -> None:\n",
        "        self.valorestest = valortest\n",
        "        self.y_pred = preditor\n",
        "        self.y_test = valortest[3]\n",
        "        \n",
        "    def ScoreAcuracia(self):\n",
        "        \"\"\" Calcular o score da acurácia \"\"\"\n",
        "        score_ac = accuracy_score(self.y_test, self.y_pred)\n",
        "        return print('A acurácia deste modelo é: {:.2f}%'.format(score_ac * 100))\n",
        "\n",
        "    def MatrizDeConfusao(self):\n",
        "        \"\"\"Passando como parametros as variaves de teste e predição para a instancia da matriz de confusão\"\"\"\n",
        "        mc = confusion_matrix(self.y_test, self.y_pred)\n",
        "        mp_calor = sns.heatmap(mc, annot=True); # Plotando o gráfico da matriz de confusão\n",
        "        return print(mc), mp_calor\n",
        "\n",
        "    def ClassificacaoKPIs(self):\n",
        "        return classification_report(self.y_test, self.y_pred)\n",
        "        "
      ],
      "metadata": {
        "id": "GqQ4J0iuC4OD"
      },
      "execution_count": 22,
      "outputs": []
    },
    {
      "cell_type": "code",
      "source": [
        "metricas_RL = metricaseavaliacoes(treinamento_ml, treinar) # Instanciando a classe de treinamento do modelo de Regressão Logistica"
      ],
      "metadata": {
        "id": "m67H3tf_GKa-"
      },
      "execution_count": 30,
      "outputs": []
    },
    {
      "cell_type": "code",
      "source": [
        "\"\"\" Exibindo Métricas Regressão Logística \"\"\"\n",
        "\n",
        "metricas_RL.MatrizDeConfusao() # Matriz de confusão\n",
        "print(metricas_RL.ClassificacaoKPIs()) # Classificador de KPIs"
      ],
      "metadata": {
        "colab": {
          "base_uri": "https://localhost:8080/",
          "height": 456
        },
        "id": "NeIrZRShk0JR",
        "outputId": "cf2289d1-26e2-4536-e9b3-b32fc0ed2164"
      },
      "execution_count": 33,
      "outputs": [
        {
          "output_type": "stream",
          "name": "stdout",
          "text": [
            "[[309   5]\n",
            " [ 33  21]]\n",
            "              precision    recall  f1-score   support\n",
            "\n",
            "           0       0.90      0.98      0.94       314\n",
            "           1       0.81      0.39      0.53        54\n",
            "\n",
            "    accuracy                           0.90       368\n",
            "   macro avg       0.86      0.69      0.73       368\n",
            "weighted avg       0.89      0.90      0.88       368\n",
            "\n"
          ]
        },
        {
          "output_type": "display_data",
          "data": {
            "image/png": "[encoded data removed]",
            "text/plain": [
              "<Figure size 432x288 with 2 Axes>"
            ]
          },
          "metadata": {
            "needs_background": "light"
          }
        }
      ]
    },
    {
      "cell_type": "markdown",
      "source": [
        "KPIs"
      ],
      "metadata": {
        "id": "p8F7sqISAJWA"
      }
    },
    {
      "cell_type": "markdown",
      "source": [
        "### **Modelo de Random Forest**"
      ],
      "metadata": {
        "id": "4lH4vCBNQdEa"
      }
    },
    {
      "cell_type": "code",
      "source": [
        "\"\"\" Importação das bibliotecas necessárias para aplicação da arvore de decisão \"\"\"\n",
        "from sklearn.ensemble import RandomForestClassifier\n",
        "\n",
        "\n",
        "class arvore_decisao:\n",
        "    def __init__(self, dadostreino) -> None:\n",
        "        self.X_train = dadostreino[0]\n",
        "        self.y_train = dadostreino[1]\n",
        "        self.X_test = dadostreino[2]\n",
        "\n",
        "    def ArvoreTreinar(self):\n",
        "        \"\"\" Instanciando e treinando o modelo de Random Forest \"\"\"\n",
        "        arvore = RandomForestClassifier() # Instanciando\n",
        "        arvore.fit(self.X_train, self.y_train) # Realizando o treinamento\n",
        "        return arvore\n",
        "\n",
        "    def DefinindoPreditorArvore(self, arvore):\n",
        "        y_pred = arvore.predict(self.X_test) # Gerando a variavel preditora\n",
        "        return y_pred\n"
      ],
      "metadata": {
        "id": "qVxZVZm1QgKX"
      },
      "execution_count": 51,
      "outputs": []
    },
    {
      "cell_type": "code",
      "source": [
        "Mod_RF = arvore_decisao(treinamento_ml)\n",
        "treinar_arvore = Mod_RF.DefinindoPreditorArvore(Mod_RF.ArvoreTreinar())\n"
      ],
      "metadata": {
        "id": "QihU3WT1RjN4"
      },
      "execution_count": 52,
      "outputs": []
    },
    {
      "cell_type": "code",
      "source": [
        "metricas_RF = metricaseavaliacoes(treinamento_ml, treinar_arvore) # Instanciando a classe de treinamento do modelo de Random Forest\n"
      ],
      "metadata": {
        "id": "EC-RfpRAT_Ts"
      },
      "execution_count": 53,
      "outputs": []
    },
    {
      "cell_type": "code",
      "source": [
        "\"\"\" Exibindo Métricas Regressão Logística \"\"\"\n",
        "\n",
        "metricas_RF.MatrizDeConfusao() # Matriz de confusão\n",
        "print(metricas_RF.ClassificacaoKPIs()) # Classificador de KPIs"
      ],
      "metadata": {
        "colab": {
          "base_uri": "https://localhost:8080/",
          "height": 456
        },
        "id": "XzhtodNLvyS7",
        "outputId": "648aa7d6-bc7c-462d-877c-e60a335c867b"
      },
      "execution_count": 54,
      "outputs": [
        {
          "output_type": "stream",
          "name": "stdout",
          "text": [
            "[[314   0]\n",
            " [ 44  10]]\n",
            "              precision    recall  f1-score   support\n",
            "\n",
            "           0       0.88      1.00      0.93       314\n",
            "           1       1.00      0.19      0.31        54\n",
            "\n",
            "    accuracy                           0.88       368\n",
            "   macro avg       0.94      0.59      0.62       368\n",
            "weighted avg       0.90      0.88      0.84       368\n",
            "\n"
          ]
        },
        {
          "output_type": "display_data",
          "data": {
            "image/png": "[encoded data removed]",
            "text/plain": [
              "<Figure size 432x288 with 2 Axes>"
            ]
          },
          "metadata": {
            "needs_background": "light"
          }
        }
      ]
    },
    {
      "cell_type": "markdown",
      "source": [
        "### **Implementação de Redes Neurais - TensorFlow**"
      ],
      "metadata": {
        "id": "D0hGMVEzb9_a"
      }
    },
    {
      "cell_type": "code",
      "source": [
        "\"\"\" Importando bibliotecas necessárias \"\"\"\n",
        "import tensorflow as tf\n"
      ],
      "metadata": {
        "id": "8SF28oGjcJdF"
      },
      "execution_count": 155,
      "outputs": []
    },
    {
      "cell_type": "code",
      "source": [
        "\"\"\"\n",
        "Formula para definir a quantidade de neuronios deverá ser implementado na rede neural\n",
        "QN = (QE + QS) / 2\n",
        "\n",
        "QN = Quantidade de Neuronios\n",
        "QE = Quantidade de entradas (colunas no dataset)\n",
        "QS = Somatorio da quantidade de saídas esperada\n",
        "\"\"\"\n",
        "QE = len(X[0])\n",
        "QS = 1\n",
        "QN = int((50 + 1) / 2)\n",
        "QE"
      ],
      "metadata": {
        "colab": {
          "base_uri": "https://localhost:8080/"
        },
        "id": "M8zFAE7OcvC-",
        "outputId": "b45c9102-4c93-4f2e-ae3a-28059ba430f2"
      },
      "execution_count": 184,
      "outputs": [
        {
          "output_type": "execute_result",
          "data": {
            "text/plain": [
              "50"
            ]
          },
          "metadata": {},
          "execution_count": 184
        }
      ]
    },
    {
      "cell_type": "code",
      "source": [
        "rede_neural = tf.keras.models.Sequential() # Definindo neuronios\n",
        "\n",
        "\"\"\" Camadas ocultas \"\"\"\n",
        "rede_neural.add(tf.keras.layers.Dense(units=QN, activation='relu', input_shape=(50,)))\n",
        "rede_neural.add(tf.keras.layers.Dense(units=QN, activation='relu'))\n",
        "rede_neural.add(tf.keras.layers.Dense(units=QN, activation='relu'))\n",
        "\n",
        "\"\"\" Camada de saída \"\"\"\n",
        "rede_neural.add(tf.keras.layers.Dense(units=QS, activation='sigmoid'))\n"
      ],
      "metadata": {
        "id": "qdpIkG7ge1mw"
      },
      "execution_count": 185,
      "outputs": []
    },
    {
      "cell_type": "code",
      "source": [
        "\"\"\" Visualisando o sumario da rede neural \"\"\"\n",
        "rede_neural.summary()"
      ],
      "metadata": {
        "colab": {
          "base_uri": "https://localhost:8080/"
        },
        "id": "9jQ_Owz9gGuP",
        "outputId": "290af6fc-b91e-48d2-e262-69836a46d6b9"
      },
      "execution_count": 187,
      "outputs": [
        {
          "output_type": "stream",
          "name": "stdout",
          "text": [
            "Model: \"sequential_3\"\n",
            "_________________________________________________________________\n",
            " Layer (type)                Output Shape              Param #   \n",
            "=================================================================\n",
            " dense_5 (Dense)             (None, 25)                1275      \n",
            "                                                                 \n",
            " dense_6 (Dense)             (None, 25)                650       \n",
            "                                                                 \n",
            " dense_7 (Dense)             (None, 25)                650       \n",
            "                                                                 \n",
            " dense_8 (Dense)             (None, 1)                 26        \n",
            "                                                                 \n",
            "=================================================================\n",
            "Total params: 2,601\n",
            "Trainable params: 2,601\n",
            "Non-trainable params: 0\n",
            "_________________________________________________________________\n"
          ]
        }
      ]
    },
    {
      "cell_type": "code",
      "source": [
        "\"\"\" Compilando a rede neural \"\"\"\n",
        "rede_neural.compile(optimizer='Adam', loss='binary_crossentropy', metrics='accuracy')"
      ],
      "metadata": {
        "id": "F40n2nOZmU79"
      },
      "execution_count": 190,
      "outputs": []
    },
    {
      "cell_type": "code",
      "source": [
        "rede_neural.fit(X_train, y_train, epochs=200) # Treinando a rede neural"
      ],
      "metadata": {
        "id": "h03-99AhnFlI"
      },
      "execution_count": null,
      "outputs": []
    },
    {
      "cell_type": "code",
      "source": [
        "y_pred = rede_neural.predict(X_test) # Variavel preditora\n",
        "y_pred = (y_pred >= 0.5) # formatando a variavel preditora para verdadeiro ou falso para valores que atende ou não a condição\n"
      ],
      "metadata": {
        "id": "br7J2MHunZgF"
      },
      "execution_count": 193,
      "outputs": []
    },
    {
      "cell_type": "code",
      "source": [
        "rn_mc = confusion_matrix(y_test, y_pred) # Gerando matriz de confusão da rede neural\n",
        "sns.heatmap(rn_mc, annot=True);# Plotando o gráfico da matriz\n",
        "rn_mc"
      ],
      "metadata": {
        "colab": {
          "base_uri": "https://localhost:8080/",
          "height": 300
        },
        "id": "RD5sXeuCr-b2",
        "outputId": "46454a06-5fef-45bb-829a-95a5f23e8570"
      },
      "execution_count": 195,
      "outputs": [
        {
          "output_type": "execute_result",
          "data": {
            "text/plain": [
              "array([[282,  35],\n",
              "       [ 31,  20]])"
            ]
          },
          "metadata": {},
          "execution_count": 195
        },
        {
          "output_type": "display_data",
          "data": {
            "image/png": "[encoded data removed]",
            "text/plain": [
              "<Figure size 432x288 with 2 Axes>"
            ]
          },
          "metadata": {
            "needs_background": "light"
          }
        }
      ]
    },
    {
      "cell_type": "code",
      "source": [
        "print(classification_report(y_test, y_pred))"
      ],
      "metadata": {
        "colab": {
          "base_uri": "https://localhost:8080/"
        },
        "id": "eqqv0dRZtzNP",
        "outputId": "909a025e-8fb6-4da1-c858-8c7090e77363"
      },
      "execution_count": 196,
      "outputs": [
        {
          "output_type": "stream",
          "name": "stdout",
          "text": [
            "              precision    recall  f1-score   support\n",
            "\n",
            "           0       0.90      0.89      0.90       317\n",
            "           1       0.36      0.39      0.38        51\n",
            "\n",
            "    accuracy                           0.82       368\n",
            "   macro avg       0.63      0.64      0.64       368\n",
            "weighted avg       0.83      0.82      0.82       368\n",
            "\n"
          ]
        }
      ]
    },
    {
      "cell_type": "code",
      "source": [
        ""
      ],
      "metadata": {
        "id": "yOCCna-qt9Zc"
      },
      "execution_count": null,
      "outputs": []
    }
  ]
}